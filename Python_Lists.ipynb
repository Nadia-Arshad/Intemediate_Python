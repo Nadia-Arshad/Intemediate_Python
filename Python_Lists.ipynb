{
  "nbformat": 4,
  "nbformat_minor": 0,
  "metadata": {
    "colab": {
      "provenance": []
    },
    "kernelspec": {
      "name": "python3",
      "display_name": "Python 3"
    },
    "language_info": {
      "name": "python"
    }
  },
  "cells": [
    {
      "cell_type": "markdown",
      "source": [
        "Type Hinting:"
      ],
      "metadata": {
        "id": "bk-TeOvEuFQH"
      }
    },
    {
      "cell_type": "code",
      "execution_count": 4,
      "metadata": {
        "colab": {
          "base_uri": "https://localhost:8080/"
        },
        "id": "g5YnVqzHtVKF",
        "outputId": "f419a478-c4b9-4413-effd-eb4ae4b61afd"
      },
      "outputs": [
        {
          "output_type": "stream",
          "name": "stdout",
          "text": [
            "['banana', 6, 9.08, ['box', 'pencil'], 6]\n"
          ]
        }
      ],
      "source": [
        "# Lists allows all data types and duplicates\n",
        "\n",
        "from typing import List, Union\n",
        "\n",
        "this_list: List[Union[str, int, float, List[str]]] = [\"banana\", 6, 9.08, [\"box\", \"pencil\"], 6]\n",
        "print(this_list)"
      ]
    },
    {
      "cell_type": "code",
      "source": [
        "fruits : str = [\"banana\", \"apple\", \"cherry\", \"grapes\", \"watermelon\"]\n",
        "print(fruits)\n",
        "\n",
        "#You can also create a list with a list function like this:\n",
        "\n",
        "my_list : list = list()\n",
        "print(my_list)"
      ],
      "metadata": {
        "colab": {
          "base_uri": "https://localhost:8080/"
        },
        "id": "h1AANV4Ht_h1",
        "outputId": "73393eea-7e90-4afe-f935-21a2d225a1a2"
      },
      "execution_count": 2,
      "outputs": [
        {
          "output_type": "stream",
          "name": "stdout",
          "text": [
            "['banana', 'apple', 'cherry', 'grapes', 'watermelon']\n",
            "[]\n"
          ]
        }
      ]
    },
    {
      "cell_type": "code",
      "source": [
        "#Iterate through lists using for in loop\n",
        "\n",
        "for i in fruits:\n",
        "    print(i, end=\" \")\n"
      ],
      "metadata": {
        "colab": {
          "base_uri": "https://localhost:8080/"
        },
        "id": "RmZ7awL2uqTm",
        "outputId": "d8301910-2313-45b4-9371-76366e4eb5bb"
      },
      "execution_count": 8,
      "outputs": [
        {
          "output_type": "stream",
          "name": "stdout",
          "text": [
            "banana apple cherry grapes watermelon "
          ]
        }
      ]
    },
    {
      "cell_type": "code",
      "source": [
        "#To check if something is in the list\n",
        "\n",
        "if \"grapes\" in fruits:\n",
        "    print(\"Yes, grapes are in the list\")\n",
        "else:\n",
        "    print(\"No, grapes are not in the list\")\n",
        "\n",
        "\n"
      ],
      "metadata": {
        "colab": {
          "base_uri": "https://localhost:8080/"
        },
        "id": "kLtZ_bHmveD9",
        "outputId": "67c2929b-6c41-4bc6-d74e-03882a6d19ba"
      },
      "execution_count": 10,
      "outputs": [
        {
          "output_type": "stream",
          "name": "stdout",
          "text": [
            "Yes, grapes are in the list\n"
          ]
        }
      ]
    },
    {
      "cell_type": "code",
      "source": [
        "# How many elements inside a list?\n",
        "len(fruits)"
      ],
      "metadata": {
        "colab": {
          "base_uri": "https://localhost:8080/"
        },
        "id": "zJgkMm5iv3eU",
        "outputId": "9003ce8c-8462-4b9e-ebf0-a6f54cc0e65c"
      },
      "execution_count": 11,
      "outputs": [
        {
          "output_type": "execute_result",
          "data": {
            "text/plain": [
              "5"
            ]
          },
          "metadata": {},
          "execution_count": 11
        }
      ]
    },
    {
      "cell_type": "code",
      "source": [
        "# What is the last index\n",
        "len(fruits) - 1"
      ],
      "metadata": {
        "colab": {
          "base_uri": "https://localhost:8080/"
        },
        "id": "A9kRZRftwIaq",
        "outputId": "26853973-70ab-435c-f7a8-8ee8faf26cfd"
      },
      "execution_count": 12,
      "outputs": [
        {
          "output_type": "execute_result",
          "data": {
            "text/plain": [
              "4"
            ]
          },
          "metadata": {},
          "execution_count": 12
        }
      ]
    },
    {
      "cell_type": "code",
      "source": [
        "# Add a fruit (element) in the end\n",
        "fruits.append(\"strawberry\")\n",
        "print(fruits)"
      ],
      "metadata": {
        "colab": {
          "base_uri": "https://localhost:8080/"
        },
        "id": "souofcX0wRxT",
        "outputId": "c9dd0a9d-ce3d-4352-8dac-dae30d5051eb"
      },
      "execution_count": 13,
      "outputs": [
        {
          "output_type": "stream",
          "name": "stdout",
          "text": [
            "['banana', 'apple', 'cherry', 'grapes', 'watermelon', 'strawberry']\n"
          ]
        }
      ]
    },
    {
      "cell_type": "code",
      "source": [
        "# Blueberry shoud be added after the grapes : 0\n",
        "fruits.insert(4, \"blueberry\")\n",
        "print(fruits)"
      ],
      "metadata": {
        "colab": {
          "base_uri": "https://localhost:8080/"
        },
        "id": "XkuUsNWZwgmq",
        "outputId": "4b424ec3-293c-4c3d-889c-03d52760950c"
      },
      "execution_count": 14,
      "outputs": [
        {
          "output_type": "stream",
          "name": "stdout",
          "text": [
            "['banana', 'apple', 'cherry', 'grapes', 'blueberry', 'watermelon', 'strawberry']\n"
          ]
        }
      ]
    },
    {
      "cell_type": "code",
      "source": [
        "# Remove the last element\n",
        "removed_fruit = fruits.pop()\n",
        "print(fruits)\n",
        "print(removed_fruit)"
      ],
      "metadata": {
        "colab": {
          "base_uri": "https://localhost:8080/"
        },
        "id": "cwBMmGcgw5d4",
        "outputId": "eb461541-6cb8-4dcb-d8ee-955ce949cd89"
      },
      "execution_count": 17,
      "outputs": [
        {
          "output_type": "stream",
          "name": "stdout",
          "text": [
            "['banana', 'apple', 'cherry', 'grapes']\n",
            "blueberry\n"
          ]
        }
      ]
    },
    {
      "cell_type": "code",
      "source": [
        "# Remove a specific element\n",
        "item = fruits.remove(\"banana\")\n",
        "print(fruits)\n",
        "print(item)"
      ],
      "metadata": {
        "colab": {
          "base_uri": "https://localhost:8080/"
        },
        "id": "5SW8eCLFxJT0",
        "outputId": "95945c0b-dfbb-4ae5-f1a5-0d0bd81a5b88"
      },
      "execution_count": 18,
      "outputs": [
        {
          "output_type": "stream",
          "name": "stdout",
          "text": [
            "['apple', 'cherry', 'grapes']\n",
            "None\n"
          ]
        }
      ]
    },
    {
      "cell_type": "code",
      "source": [
        "# Remove every element\n",
        "fruits.clear()\n",
        "print(fruits)"
      ],
      "metadata": {
        "colab": {
          "base_uri": "https://localhost:8080/"
        },
        "id": "0u9qVf4KyXZe",
        "outputId": "fdd5c7bc-f137-4a41-cb4f-a356f01dfd89"
      },
      "execution_count": 19,
      "outputs": [
        {
          "output_type": "stream",
          "name": "stdout",
          "text": [
            "[]\n"
          ]
        }
      ]
    },
    {
      "cell_type": "code",
      "source": [
        "# Reverse the list elements:\n",
        "fruits : str = [\"banana\", \"apple\", \"cherry\", \"grapes\", \"watermelon\", \"blueberry\"]\n",
        "fruits.reverse()\n",
        "print(fruits)"
      ],
      "metadata": {
        "colab": {
          "base_uri": "https://localhost:8080/"
        },
        "id": "vGbn6Y7yycRN",
        "outputId": "1f26b011-9f84-41d4-9f5a-23558272e658"
      },
      "execution_count": 21,
      "outputs": [
        {
          "output_type": "stream",
          "name": "stdout",
          "text": [
            "['blueberry', 'watermelon', 'grapes', 'cherry', 'apple', 'banana']\n"
          ]
        }
      ]
    },
    {
      "cell_type": "code",
      "source": [
        "# Or:\n",
        "fruits : str = [\"banana\", \"apple\", \"cherry\", \"grapes\", \"watermelon\", \"blueberry\"]\n",
        "fruits = fruits[::-1]\n",
        "print(fruits)"
      ],
      "metadata": {
        "colab": {
          "base_uri": "https://localhost:8080/"
        },
        "id": "5I_5b9oC0L60",
        "outputId": "d582e49a-f257-4350-817a-fa73a92818ac"
      },
      "execution_count": 22,
      "outputs": [
        {
          "output_type": "stream",
          "name": "stdout",
          "text": [
            "['blueberry', 'watermelon', 'grapes', 'cherry', 'apple', 'banana']\n"
          ]
        }
      ]
    },
    {
      "cell_type": "code",
      "source": [
        "# Or:\n",
        "fruits : str = [\"banana\", \"apple\", \"cherry\", \"grapes\", \"watermelon\", \"blueberry\"]\n",
        "fruits.sort(reverse=True)   # Sort is putting the elements in the alphabetic order\n",
        "print(fruits)"
      ],
      "metadata": {
        "colab": {
          "base_uri": "https://localhost:8080/"
        },
        "id": "Tcq13VVa0jsc",
        "outputId": "ccbea369-47c1-4010-f4ea-783376940eb7"
      },
      "execution_count": 23,
      "outputs": [
        {
          "output_type": "stream",
          "name": "stdout",
          "text": [
            "['watermelon', 'grapes', 'cherry', 'blueberry', 'banana', 'apple']\n"
          ]
        }
      ]
    },
    {
      "cell_type": "code",
      "source": [
        "# Elements in Alphabetic order (Strings):\n",
        "fruits : str = [\"banana\", \"apple\", \"cherry\", \"grapes\", \"watermelon\", \"blueberry\"]\n",
        "fruits.sort()\n",
        "print(fruits)"
      ],
      "metadata": {
        "colab": {
          "base_uri": "https://localhost:8080/"
        },
        "id": "E-uX3BEZ0nbL",
        "outputId": "5cbc954a-c018-4963-c832-25e509b22e38"
      },
      "execution_count": 26,
      "outputs": [
        {
          "output_type": "stream",
          "name": "stdout",
          "text": [
            "['apple', 'banana', 'blueberry', 'cherry', 'grapes', 'watermelon']\n"
          ]
        }
      ]
    },
    {
      "cell_type": "code",
      "source": [
        "# Elements in numeric order (Numbers):\n",
        "num_list = [6, 4, 0, -1, 3, 1]\n",
        "num_list.sort()\n",
        "print(num_list)"
      ],
      "metadata": {
        "colab": {
          "base_uri": "https://localhost:8080/"
        },
        "id": "P3c3i9zJ07ZU",
        "outputId": "8a81e276-45eb-466d-ba5a-240d016e1603"
      },
      "execution_count": 27,
      "outputs": [
        {
          "output_type": "stream",
          "name": "stdout",
          "text": [
            "[-1, 0, 1, 3, 4, 6]\n"
          ]
        }
      ]
    },
    {
      "cell_type": "code",
      "source": [
        "# Or\n",
        "num_list = [6, 4, 0, -1, 3, 1]\n",
        "new_num_list = sorted(num_list)\n",
        "print(num_list)\n",
        "print(new_num_list)"
      ],
      "metadata": {
        "colab": {
          "base_uri": "https://localhost:8080/"
        },
        "id": "33gGM4CE2msZ",
        "outputId": "0b15bee1-5fb5-4f0b-f5e5-4ee5953aa376"
      },
      "execution_count": 31,
      "outputs": [
        {
          "output_type": "stream",
          "name": "stdout",
          "text": [
            "[6, 4, 0, -1, 3, 1]\n",
            "[-1, 0, 1, 3, 4, 6]\n"
          ]
        }
      ]
    },
    {
      "cell_type": "code",
      "source": [
        "# List with just range function\n",
        "fast_list = list(range(1, 21))\n",
        "print(fast_list)"
      ],
      "metadata": {
        "colab": {
          "base_uri": "https://localhost:8080/"
        },
        "id": "CAILzG4m2uS7",
        "outputId": "d8cde8ec-4c31-4dd4-bc28-40dc2ca3cf8c"
      },
      "execution_count": 32,
      "outputs": [
        {
          "output_type": "stream",
          "name": "stdout",
          "text": [
            "[1, 2, 3, 4, 5, 6, 7, 8, 9, 10, 11, 12, 13, 14, 15, 16, 17, 18, 19, 20]\n"
          ]
        }
      ]
    },
    {
      "cell_type": "code",
      "source": [
        "# Fast Lists:\n",
        "fast_list = [5] * 5\n",
        "print(fast_list)"
      ],
      "metadata": {
        "colab": {
          "base_uri": "https://localhost:8080/"
        },
        "id": "cKjA1MbM3bZj",
        "outputId": "92d9bde9-87cb-4eb6-cf55-b230852957a8"
      },
      "execution_count": 33,
      "outputs": [
        {
          "output_type": "stream",
          "name": "stdout",
          "text": [
            "[5, 5, 5, 5, 5]\n"
          ]
        }
      ]
    },
    {
      "cell_type": "code",
      "source": [
        "# Combining two lists:\n",
        "fruits = [\"banana\", \"apple\", \"cherry\", \"grapes\", \"watermelon\", \"blueberry\"]\n",
        "veges = [\"okra\", \"potato\", \"brinjal\", \"lemon\", \"coriander\", \"bitter-gourd\"]\n",
        "healthy_food = fruits + veges\n",
        "print(healthy_food)"
      ],
      "metadata": {
        "colab": {
          "base_uri": "https://localhost:8080/"
        },
        "id": "sFQahWGy3otI",
        "outputId": "23ad0c15-b793-4500-c195-8b9a7782e8da"
      },
      "execution_count": 35,
      "outputs": [
        {
          "output_type": "stream",
          "name": "stdout",
          "text": [
            "['banana', 'apple', 'cherry', 'grapes', 'watermelon', 'blueberry', 'okra', 'potato', 'brinjal', 'lemon', 'coriander', 'bitter-gourd']\n"
          ]
        }
      ]
    },
    {
      "cell_type": "markdown",
      "source": [
        "Slicing:"
      ],
      "metadata": {
        "id": "S19J8Q3D4W6C"
      }
    },
    {
      "cell_type": "code",
      "source": [
        "# Python indexes start from 0\n",
        "nums = list(range(1, 11))\n",
        "print(nums[0])"
      ],
      "metadata": {
        "colab": {
          "base_uri": "https://localhost:8080/"
        },
        "id": "Pea4ulP-3vcZ",
        "outputId": "8b89cb93-089c-46bc-8c2d-48fb196514cb"
      },
      "execution_count": 36,
      "outputs": [
        {
          "output_type": "stream",
          "name": "stdout",
          "text": [
            "1\n"
          ]
        }
      ]
    },
    {
      "cell_type": "code",
      "source": [
        "print(nums[1:4])"
      ],
      "metadata": {
        "colab": {
          "base_uri": "https://localhost:8080/"
        },
        "id": "mK3TmDsI4gfw",
        "outputId": "5115d827-4120-429f-b24d-f857b7e4c1ca"
      },
      "execution_count": 37,
      "outputs": [
        {
          "output_type": "stream",
          "name": "stdout",
          "text": [
            "[2, 3, 4]\n"
          ]
        }
      ]
    },
    {
      "cell_type": "code",
      "source": [
        "print(nums[0:11:2])   #start, end(not included), step"
      ],
      "metadata": {
        "colab": {
          "base_uri": "https://localhost:8080/"
        },
        "id": "yANRzVtE4odG",
        "outputId": "c138586d-f1dd-4582-814d-674c24cd1641"
      },
      "execution_count": 38,
      "outputs": [
        {
          "output_type": "stream",
          "name": "stdout",
          "text": [
            "[1, 3, 5, 7, 9]\n"
          ]
        }
      ]
    },
    {
      "cell_type": "code",
      "source": [
        "# Reverse this list\n",
        "print(nums[::-1])\n"
      ],
      "metadata": {
        "colab": {
          "base_uri": "https://localhost:8080/"
        },
        "id": "1dySQkzp4zOc",
        "outputId": "f5acd580-89c3-4150-c373-5c4866663f1d"
      },
      "execution_count": 39,
      "outputs": [
        {
          "output_type": "stream",
          "name": "stdout",
          "text": [
            "[10, 9, 8, 7, 6, 5, 4, 3, 2, 1]\n"
          ]
        }
      ]
    },
    {
      "cell_type": "markdown",
      "source": [
        "Copying:\n"
      ],
      "metadata": {
        "id": "R1XS4aoB537d"
      }
    },
    {
      "cell_type": "code",
      "source": [
        "# You copy a list (Shallow copy)\n",
        "org_list = [\"ginger\", \"lemon\", \"honey\", \"hotwater\"]\n",
        "copy_list = org_list\n",
        "print(org_list)\n",
        "print(copy_list)"
      ],
      "metadata": {
        "colab": {
          "base_uri": "https://localhost:8080/"
        },
        "id": "Lyqy2i8j5DB_",
        "outputId": "9824f49e-d94d-40e6-d814-eee627a03578"
      },
      "execution_count": 40,
      "outputs": [
        {
          "output_type": "stream",
          "name": "stdout",
          "text": [
            "['ginger', 'lemon', 'honey', 'hotwater']\n",
            "['ginger', 'lemon', 'honey', 'hotwater']\n"
          ]
        }
      ]
    },
    {
      "cell_type": "code",
      "source": [
        "copy_list.append(\"chamomile\")\n",
        "print(org_list)\n",
        "print(copy_list)"
      ],
      "metadata": {
        "colab": {
          "base_uri": "https://localhost:8080/"
        },
        "id": "XqhlUfAi-fQD",
        "outputId": "71e74c02-db15-4536-ffc9-46562bf2234e"
      },
      "execution_count": 41,
      "outputs": [
        {
          "output_type": "stream",
          "name": "stdout",
          "text": [
            "['ginger', 'lemon', 'honey', 'hotwater', 'chamomile']\n",
            "['ginger', 'lemon', 'honey', 'hotwater', 'chamomile']\n"
          ]
        }
      ]
    },
    {
      "cell_type": "code",
      "source": [
        "# The problem with the shalow copy is any change in the copy will effect the original as well to avoid it, we use copy() function\n",
        "org_list = [\"ginger\", \"lemon\", \"honey\", \"hotwater\"]\n",
        "copy_list = org_list.copy()\n",
        "copy_list.append(\"sugar\")\n",
        "print(org_list)\n",
        "print(copy_list)"
      ],
      "metadata": {
        "colab": {
          "base_uri": "https://localhost:8080/"
        },
        "id": "P5ew6Vah6ETX",
        "outputId": "d7408124-060b-4b9b-ff92-249ddf688e82"
      },
      "execution_count": 42,
      "outputs": [
        {
          "output_type": "stream",
          "name": "stdout",
          "text": [
            "['ginger', 'lemon', 'honey', 'hotwater']\n",
            "['ginger', 'lemon', 'honey', 'hotwater', 'sugar']\n"
          ]
        }
      ]
    },
    {
      "cell_type": "code",
      "source": [
        "# OR we use [:] slicing\n",
        "org_list = [\"ginger\", \"lemon\", \"honey\", \"hotwater\"]\n",
        "copy_list = org_list[:]\n",
        "copy_list.append(\"jaggery\")\n",
        "print(org_list)\n",
        "print(copy_list)"
      ],
      "metadata": {
        "colab": {
          "base_uri": "https://localhost:8080/"
        },
        "id": "nrtZIlcQ-zis",
        "outputId": "0194406d-48d0-4140-dab3-c131ea0845ff"
      },
      "execution_count": 43,
      "outputs": [
        {
          "output_type": "stream",
          "name": "stdout",
          "text": [
            "['ginger', 'lemon', 'honey', 'hotwater']\n",
            "['ginger', 'lemon', 'honey', 'hotwater', 'jaggery']\n"
          ]
        }
      ]
    },
    {
      "cell_type": "markdown",
      "source": [
        "List Comprehension"
      ],
      "metadata": {
        "id": "qBVtHV1I_Ujz"
      }
    },
    {
      "cell_type": "code",
      "source": [
        "numbs = list(range(1, 11))\n",
        "squares = [i**2 for i in numbs]\n",
        "print(squares)"
      ],
      "metadata": {
        "colab": {
          "base_uri": "https://localhost:8080/"
        },
        "id": "ZV4Kfz5g_FOe",
        "outputId": "e7307f2f-b1c2-4a84-df58-37ecff137d18"
      },
      "execution_count": 45,
      "outputs": [
        {
          "output_type": "stream",
          "name": "stdout",
          "text": [
            "[1, 4, 9, 16, 25, 36, 49, 64, 81, 100]\n"
          ]
        }
      ]
    },
    {
      "cell_type": "code",
      "source": [],
      "metadata": {
        "id": "7E6Z9DhO_hZy"
      },
      "execution_count": null,
      "outputs": []
    }
  ]
}