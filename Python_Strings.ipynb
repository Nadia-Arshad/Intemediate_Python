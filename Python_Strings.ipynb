{
  "nbformat": 4,
  "nbformat_minor": 0,
  "metadata": {
    "colab": {
      "provenance": []
    },
    "kernelspec": {
      "name": "python3",
      "display_name": "Python 3"
    },
    "language_info": {
      "name": "python"
    }
  },
  "cells": [
    {
      "cell_type": "code",
      "execution_count": 5,
      "metadata": {
        "colab": {
          "base_uri": "https://localhost:8080/"
        },
        "id": "LzeAd0aHT4k_",
        "outputId": "c7a841f5-bfbf-49b0-ff2f-a1e39e47d323"
      },
      "outputs": [
        {
          "output_type": "stream",
          "name": "stdout",
          "text": [
            "\n",
            "Now the point is, there is a lot of text that need to come under one variable, single and double quotes won't be enough, we move to triple quotes. hehehehe\n",
            "\n"
          ]
        }
      ],
      "source": [
        "# Ordered Immutable Text Representation -> String ; )\n",
        "\n",
        "this_string = \"Hello Universe.\"\n",
        "that_string = 'Hello Universe.'   # Enclosed in double or single quotes.\n",
        "\n",
        "my_string = \"I'm a programmer.\"\n",
        "\n",
        "# OR\n",
        "\n",
        "my_string_00 = \"I\\\"m a programmer.\"  # With escape character which is backslash.\n",
        "\n",
        "# Triple quotes for docstring:\n",
        "\n",
        "long_string = \"\"\"\n",
        "Now the point is, there is a lot of text that need to come under one variable, \\\n",
        "single and double quotes won't be enough, we move to triple quotes. hehehehe\n",
        "\"\"\"\n",
        "# A backslash means it should not move to a new line and pring in continuity.\n",
        "\n",
        "print(long_string)\n"
      ]
    },
    {
      "cell_type": "code",
      "source": [
        "long_string = \"\"\"\n",
        "Now the point is, there is a lot of text that need to come under one variable, \\n\n",
        "single and double quotes won't be enough, we move to triple quotes. hehehehe\n",
        "\"\"\"\n",
        "# A backslash with an n, means it should move to a new line.\n",
        "\n",
        "print(long_string)\n"
      ],
      "metadata": {
        "colab": {
          "base_uri": "https://localhost:8080/"
        },
        "id": "Ef0uHp1mWnKJ",
        "outputId": "6b1ce688-486f-49e0-bdec-6d3a48121f2c"
      },
      "execution_count": 4,
      "outputs": [
        {
          "output_type": "stream",
          "name": "stdout",
          "text": [
            "\n",
            "Now the point is, there is a lot of text that need to come under one variable, \n",
            "\n",
            "single and double quotes won't be enough, we move to triple quotes. hehehehe\n",
            "\n"
          ]
        }
      ]
    },
    {
      "cell_type": "code",
      "source": [
        "# Access characters through slicing:\n",
        "\n",
        "my_string = \"Maximilian\"\n",
        "print(my_string[0])\n",
        "print(my_string[1])\n",
        "print(my_string[2])\n",
        "print(my_string[::])\n",
        "print(my_string[0:2])\n",
        "chars = my_string[::-1]\n",
        "print(chars)\n",
        "print(my_string[0:6:2])      # All kinds of slicing is possible with strings just like lists."
      ],
      "metadata": {
        "colab": {
          "base_uri": "https://localhost:8080/"
        },
        "id": "88-4ysPpW4LX",
        "outputId": "4b51c7cc-ac4d-497e-a228-f5eb3cb3a591"
      },
      "execution_count": 15,
      "outputs": [
        {
          "output_type": "stream",
          "name": "stdout",
          "text": [
            "M\n",
            "a\n",
            "x\n",
            "Maximilian\n",
            "Ma\n",
            "nailimixaM\n",
            "Mxm\n"
          ]
        }
      ]
    },
    {
      "cell_type": "code",
      "source": [
        "# Concatenate\n",
        "\n",
        "string_001 = \"This place is \"\n",
        "string_002 = \"beautiful.\"\n",
        "\n",
        "print(string_001 + string_002)"
      ],
      "metadata": {
        "colab": {
          "base_uri": "https://localhost:8080/"
        },
        "id": "vLSs-B6eXMxq",
        "outputId": "a842adfb-9c4e-46dc-d489-cd1399367526"
      },
      "execution_count": 16,
      "outputs": [
        {
          "output_type": "stream",
          "name": "stdout",
          "text": [
            "This place is beautiful.\n"
          ]
        }
      ]
    },
    {
      "cell_type": "code",
      "source": [
        "for i in string_001:\n",
        "  print(i, end=\" \")"
      ],
      "metadata": {
        "colab": {
          "base_uri": "https://localhost:8080/"
        },
        "id": "nUBTh29cYohG",
        "outputId": "c7271787-0dd2-4f3f-efe8-e291b380bcb0"
      },
      "execution_count": 17,
      "outputs": [
        {
          "output_type": "stream",
          "name": "stdout",
          "text": [
            "T h i s   p l a c e   i s   "
          ]
        }
      ]
    },
    {
      "cell_type": "code",
      "source": [
        "if \"e\" in string_001:\n",
        "  print(\"Yes\")\n",
        "else:\n",
        "  print(\"No\")"
      ],
      "metadata": {
        "colab": {
          "base_uri": "https://localhost:8080/"
        },
        "id": "6SX4gLfmY7zk",
        "outputId": "451e1bdf-4307-457b-d600-da19aec383ee"
      },
      "execution_count": 18,
      "outputs": [
        {
          "output_type": "stream",
          "name": "stdout",
          "text": [
            "Yes\n"
          ]
        }
      ]
    },
    {
      "cell_type": "code",
      "source": [
        "if \"y\" in string_001:\n",
        "  print(\"Yes\")\n",
        "else:\n",
        "  print(\"No\")"
      ],
      "metadata": {
        "colab": {
          "base_uri": "https://localhost:8080/"
        },
        "id": "nXIFxrqBZGwh",
        "outputId": "54fd019d-da18-4c68-ae47-9767546e6120"
      },
      "execution_count": 20,
      "outputs": [
        {
          "output_type": "stream",
          "name": "stdout",
          "text": [
            "No\n"
          ]
        }
      ]
    },
    {
      "cell_type": "code",
      "source": [
        "my_string = \"          Oh, White space!!!!                   \"\n",
        "print(my_string)"
      ],
      "metadata": {
        "colab": {
          "base_uri": "https://localhost:8080/"
        },
        "id": "8JpdRvA8ZL3T",
        "outputId": "638e2c91-7d32-4b11-f18b-e4ccb9466cc4"
      },
      "execution_count": 26,
      "outputs": [
        {
          "output_type": "stream",
          "name": "stdout",
          "text": [
            "          Oh, White space!!!!                   \n"
          ]
        }
      ]
    },
    {
      "cell_type": "code",
      "source": [
        "# Now remove it:\n",
        "my_string = my_string.strip()\n",
        "print(my_string)         # Or you can also use rstrip() and lstrip()"
      ],
      "metadata": {
        "colab": {
          "base_uri": "https://localhost:8080/"
        },
        "id": "mhKjz3MGZfW4",
        "outputId": "097629ef-f4f8-476a-9499-7af8d640f1e3"
      },
      "execution_count": 27,
      "outputs": [
        {
          "output_type": "stream",
          "name": "stdout",
          "text": [
            "Oh, White space!!!!\n"
          ]
        }
      ]
    },
    {
      "cell_type": "code",
      "source": [
        "# More for strings:\n",
        "\n",
        "\n",
        "my_string = my_string.upper()\n",
        "print(my_string)\n",
        "my_string = my_string.lower()\n",
        "print(my_string)\n",
        "my_string = my_string.title()\n",
        "print(my_string)\n",
        "my_string = my_string.capitalize()\n",
        "print(my_string)\n",
        "my_string = my_string.swapcase()\n",
        "print(my_string)\n",
        "print(my_string.startswith(\"Oh,\"))\n",
        "print(my_string.endswith(\"!\"))\n",
        "another_string = \"Arachnophobia\"\n",
        "print(another_string.find(\"a\"))\n",
        "print(another_string.count(\"o\"))\n",
        "print(another_string.replace(\"Arachno\", \"Acro\"))   # This will return a new string, you better put it in another variable, it does not change the existing string."
      ],
      "metadata": {
        "colab": {
          "base_uri": "https://localhost:8080/"
        },
        "id": "8pzSs0UiZkS0",
        "outputId": "76095d3a-ff59-4722-b7dc-7c795d9e56b8"
      },
      "execution_count": 35,
      "outputs": [
        {
          "output_type": "stream",
          "name": "stdout",
          "text": [
            "OH, WHITE SPACE!!!!\n",
            "oh, white space!!!!\n",
            "Oh, White Space!!!!\n",
            "Oh, white space!!!!\n",
            "oH, WHITE SPACE!!!!\n",
            "False\n",
            "True\n",
            "2\n",
            "2\n",
            "Acrophobia\n"
          ]
        }
      ]
    },
    {
      "cell_type": "code",
      "source": [
        "# Turning string to a list:\n",
        "\n",
        "this_string = \"World is devious place. ;)\"\n",
        "this_list = this_string.split()\n",
        "print(this_list)\n",
        "\n",
        "# Easy right!"
      ],
      "metadata": {
        "colab": {
          "base_uri": "https://localhost:8080/"
        },
        "id": "b24FGk8QaOvi",
        "outputId": "36a9626c-76ef-47ac-9086-1a07bd69382b"
      },
      "execution_count": 36,
      "outputs": [
        {
          "output_type": "stream",
          "name": "stdout",
          "text": [
            "['World', 'is', 'devious', 'place.', ';)']\n"
          ]
        }
      ]
    },
    {
      "cell_type": "code",
      "source": [
        "# For split(), in brackets by default a delimiter is set, which is \" \", you can customise it.\n",
        "\n",
        "wow_string = \"Clouds.are.so.fluffy.and.soft.\"\n",
        "wow_list = wow_string.split(\".\")  # Now we are essentially telling python to split from wherever you see a period.\n",
        "print(wow_list)\n"
      ],
      "metadata": {
        "colab": {
          "base_uri": "https://localhost:8080/"
        },
        "id": "Ed9R1L7ZcPWh",
        "outputId": "cb18ae9d-d3e1-478d-d660-921f366077e9"
      },
      "execution_count": 37,
      "outputs": [
        {
          "output_type": "stream",
          "name": "stdout",
          "text": [
            "['Clouds', 'are', 'so', 'fluffy', 'and', 'soft', '']\n"
          ]
        }
      ]
    },
    {
      "cell_type": "code",
      "source": [
        "# Now to reverse it - >  A list to a string with \" \".join()\n",
        "\n",
        "this_list = [\"The\", \"time\", \"is\", \"always\", \"right\", \"to\", \"do\", \"what\", \"is\", \"right!\"]\n",
        "this_string = \" \".join(this_list)\n",
        "print(this_string)"
      ],
      "metadata": {
        "colab": {
          "base_uri": "https://localhost:8080/"
        },
        "id": "ULPfyBi_c34F",
        "outputId": "e923ca13-9957-42ff-ef42-4179298aca33"
      },
      "execution_count": 39,
      "outputs": [
        {
          "output_type": "stream",
          "name": "stdout",
          "text": [
            "The time is always right to do what is right!\n"
          ]
        }
      ]
    },
    {
      "cell_type": "code",
      "source": [
        "# More fun with it\n",
        "from timeit import default_timer as timer\n",
        "\n",
        "my_list = [\"a\"] * 6\n",
        "my_string = \"\"\n",
        "\n",
        "start = timer()\n",
        "for i in my_list:\n",
        "  my_string += i\n",
        "  stop = timer()\n",
        "  print(stop-start)\n",
        "\n",
        "start = timer()\n",
        "my_string = \" \".join(my_list)\n",
        "stop = timer()\n",
        "print(stop-start)\n"
      ],
      "metadata": {
        "colab": {
          "base_uri": "https://localhost:8080/"
        },
        "id": "3strG9UHdzCT",
        "outputId": "649b0c3e-a85b-4a02-97b0-539311b9b6ee"
      },
      "execution_count": 5,
      "outputs": [
        {
          "output_type": "stream",
          "name": "stdout",
          "text": [
            "5.450799994832778e-05\n",
            "0.00013577599997915968\n",
            "0.0001449420001335966\n",
            "0.0001523000000815955\n",
            "0.00015831400014576502\n",
            "0.0001648019999720418\n",
            "5.3396999874166795e-05\n"
          ]
        }
      ]
    },
    {
      "cell_type": "code",
      "source": [
        "# Format String:\n",
        "\n",
        "# Old formating style\n",
        "\n",
        "one_variable = 5.50\n",
        "another_variable = 10\n",
        "\n",
        "my_string = \"If we add both {:.2f} and {} we get ten point five zero\".format(one_variable, another_variable)\n",
        "print(my_string)\n"
      ],
      "metadata": {
        "colab": {
          "base_uri": "https://localhost:8080/"
        },
        "id": "CdhXVZpVqTlY",
        "outputId": "6cd89ae8-3cee-4e66-ac78-6ac35db6c6aa"
      },
      "execution_count": 9,
      "outputs": [
        {
          "output_type": "stream",
          "name": "stdout",
          "text": [
            "If we add both 5.50 and 10 we get ten point five zero\n"
          ]
        }
      ]
    },
    {
      "cell_type": "code",
      "source": [
        "# New one\n",
        "\n",
        "print(f\"If we add both {one_variable} and {another_variable} we get ten point five zero.\")"
      ],
      "metadata": {
        "colab": {
          "base_uri": "https://localhost:8080/"
        },
        "id": "sEqfOvJdtdFh",
        "outputId": "3c6cc358-d339-4d72-8d8b-d17eaa5d807e"
      },
      "execution_count": 10,
      "outputs": [
        {
          "output_type": "stream",
          "name": "stdout",
          "text": [
            "If we add both 5.5 and 10 we get ten point five zero.\n"
          ]
        }
      ]
    },
    {
      "cell_type": "code",
      "source": [],
      "metadata": {
        "id": "KGxH_MgJvGig"
      },
      "execution_count": null,
      "outputs": []
    }
  ]
}