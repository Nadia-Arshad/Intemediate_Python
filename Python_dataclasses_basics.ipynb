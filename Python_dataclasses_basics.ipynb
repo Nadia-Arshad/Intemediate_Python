{
  "nbformat": 4,
  "nbformat_minor": 0,
  "metadata": {
    "colab": {
      "provenance": []
    },
    "kernelspec": {
      "name": "python3",
      "display_name": "Python 3"
    },
    "language_info": {
      "name": "python"
    }
  },
  "cells": [
    {
      "cell_type": "code",
      "source": [
        "from dataclasses import dataclass, field\n",
        "\n",
        "@dataclass\n",
        "class Person:\n",
        "  name: str\n",
        "  age: int\n",
        "  email: str | None = None\n",
        "  tags: list[str] = field(default_factory=list)\n",
        "\n",
        "  def is_adult(self) -> bool:\n",
        "    return self.age >= 18\n",
        "\n",
        "\n",
        "def demo_good_practice():\n",
        "  person1 = Person(name=\"Alice\", age = 74, email= \"alice@example.com\")\n",
        "  person2 = Person(name=\"Bob\", age = 15)\n",
        "  person3 = Person(name=\"Charlie\", age = 35, tags = [\"alkdjf\", \"akshefl;kj\"])\n",
        "\n",
        "  person1.tags.append(\"developer\")\n",
        "  person3.tags.append(\"student\")\n",
        "  person3.tags.append(78)\n",
        "\n",
        "  print(f\"Person-01 = {person1}\")\n",
        "  print(f\"Person-02 = {person2}\")\n",
        "  print(f\"Person-03 = {person3}\")\n",
        "\n",
        "  print(f\"Is {person1.name} an adult? {person1.is_adult()}\")\n",
        "  print(f\"Is {person3.name} an adult? {person3.is_adult()}\")\n",
        "\n",
        "\n",
        "demo_good_practice()"
      ],
      "metadata": {
        "colab": {
          "base_uri": "https://localhost:8080/"
        },
        "id": "YoPZnPDSB0xI",
        "outputId": "60dbaaa1-dfb7-4671-e41b-9b1da9c68b2d"
      },
      "execution_count": null,
      "outputs": [
        {
          "output_type": "stream",
          "name": "stdout",
          "text": [
            "Person-01 = Person(name='Alice', age=74, email='alice@example.com', tags=['developer'])\n",
            "Person-02 = Person(name='Bob', age=15, email=None, tags=[])\n",
            "Person-03 = Person(name='Charlie', age=35, email=None, tags=['alkdjf', 'akshefl;kj', 'student', 78])\n"
          ]
        }
      ]
    },
    {
      "cell_type": "code",
      "execution_count": null,
      "metadata": {
        "colab": {
          "base_uri": "https://localhost:8080/"
        },
        "id": "hed4ukCYBhU_",
        "outputId": "33f9f6af-3854-4da1-c783-3d844c3d6a94"
      },
      "outputs": [
        {
          "output_type": "stream",
          "name": "stdout",
          "text": [
            "\n",
            "=== BAD REGULAR CLASS EXAMPLES ===\n",
            "PersonBad 1: PersonBad(name=Alice, age=30, email=alice@example.com, tags=['developer'])\n",
            "PersonBad 2: PersonBad(name=Bob, age=25, email=None, tags=['student'])\n",
            "PersonBad 3: PersonBad(name=Charlie, age=35, email=None, tags=['developer', 'student'])\n",
            "Is Alice an adult? True\n",
            "Is Bob an adult? True\n"
          ]
        }
      ],
      "source": [
        "# BAD EXAMPLE: Class without dataclass\n",
        "class PersonBad:\n",
        "    def __init__(self, name, age, email=None, tags=None):\n",
        "        self.name : str = name\n",
        "        self.age : int = age\n",
        "        self.email : str | None = email\n",
        "        # Common mistake: mutable default\n",
        "        self.tags = tags if tags is not None else []\n",
        "\n",
        "    # Have to manually define string representation\n",
        "    def __repr__(self):\n",
        "        return f\"PersonBad(name={self.name}, age={self.age}, email={self.email}, tags={self.tags})\"\n",
        "\n",
        "    # Have to manually define equality\n",
        "    def __eq__(self, other):\n",
        "        if not isinstance(other, PersonBad):\n",
        "            return False\n",
        "        return (self.name == other.name and\n",
        "                self.age == other.age and\n",
        "                self.email == other.email and\n",
        "                self.tags == other.tags)\n",
        "    def is_adult(self) -> bool:\n",
        "      return self.age >= 18\n",
        "\n",
        "\n",
        "\n",
        "def demo_bad_usage():\n",
        "    # More verbose and error-prone without dataclasses\n",
        "    person1 = PersonBad(\"Alice\", 30, \"alice@example.com\")\n",
        "    person2 = PersonBad(\"Bob\", 25)\n",
        "    person3 = PersonBad(\"Charlie\", 35, tags=[\"developer\", \"student\"])\n",
        "    person1.tags.append(\"developer\")\n",
        "    person2.tags.append(\"student\")\n",
        "\n",
        "    print(f\"PersonBad 1: {person1}\")\n",
        "    print(f\"PersonBad 2: {person2}\")\n",
        "    print(f\"PersonBad 3: {person3}\")\n",
        "    print(f\"Is {person1.name} an adult? {person1.is_adult()}\")\n",
        "    print(f\"Is {person2.name} an adult? {person2.is_adult()}\")\n",
        "\n",
        "\n",
        "if __name__ == \"__main__\":\n",
        "    print(\"\\n=== BAD REGULAR CLASS EXAMPLES ===\")\n",
        "    demo_bad_usage()"
      ]
    },
    {
      "cell_type": "code",
      "source": [],
      "metadata": {
        "id": "Lb5UqXyiIlyh"
      },
      "execution_count": null,
      "outputs": []
    }
  ]
}