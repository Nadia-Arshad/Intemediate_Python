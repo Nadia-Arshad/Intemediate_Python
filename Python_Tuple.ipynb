{
  "nbformat": 4,
  "nbformat_minor": 0,
  "metadata": {
    "colab": {
      "provenance": []
    },
    "kernelspec": {
      "name": "python3",
      "display_name": "Python 3"
    },
    "language_info": {
      "name": "python"
    }
  },
  "cells": [
    {
      "cell_type": "markdown",
      "source": [
        "<b>Non-primitive data types</b> in Python are used to store collections of data, unlike primitive data types that store single values. These data types are more complex and can hold other data structures within them, offering more versatile data storage capabilities. The main non-primitive data types in Python are:<br>\n",
        "<b>Lists:</b>\n",
        "Ordered, mutable sequences of items. They are defined using square brackets [] and can contain elements of different data types.<br>\n",
        "<b>Tuples:</b>\n",
        "Ordered, immutable sequences of items. They are defined using parentheses () and, like lists, can contain elements of different data types, but their contents cannot be modified after creation.<br>\n",
        "<b>Dictionaries:</b>\n",
        "Unordered collections of key-value pairs. They are defined using curly braces {} where each key is unique and associated with a value.<br>\n",
        "<b>Sets:</b>\n",
        "Unordered collections of unique items. They are defined using curly braces {} or the set() constructor and automatically remove duplicate entries."
      ],
      "metadata": {
        "id": "PKgBVCtO9ghV"
      }
    },
    {
      "cell_type": "code",
      "execution_count": 1,
      "metadata": {
        "colab": {
          "base_uri": "https://localhost:8080/"
        },
        "id": "zPNbSX7g9X0J",
        "outputId": "01dabc23-146d-435c-8526-7efe256e8563"
      },
      "outputs": [
        {
          "output_type": "stream",
          "name": "stdout",
          "text": [
            "<class 'str'>\n"
          ]
        }
      ],
      "source": [
        "# If there is one element in your tuple, despite surrounded by round brackets, it comes as 'str'\n",
        "this_tuple = (\"Maximilian\")\n",
        "print(type(this_tuple))"
      ]
    },
    {
      "cell_type": "code",
      "source": [
        "# To make it tuple you need to add a comma in the end\n",
        "this_tuple = (\"Maximilian\",)\n",
        "print(type(this_tuple))"
      ],
      "metadata": {
        "colab": {
          "base_uri": "https://localhost:8080/"
        },
        "id": "-mnATO0SAZyN",
        "outputId": "98b42766-9c57-4e11-fbf5-8b3fc840915a"
      },
      "execution_count": 2,
      "outputs": [
        {
          "output_type": "stream",
          "name": "stdout",
          "text": [
            "<class 'tuple'>\n"
          ]
        }
      ]
    },
    {
      "cell_type": "code",
      "source": [
        "# To turn something into a tuple, you can also use tuple function\n",
        "this_tuple = tuple((\"Maximilian\"))\n",
        "print(type(this_tuple))"
      ],
      "metadata": {
        "colab": {
          "base_uri": "https://localhost:8080/"
        },
        "id": "ZqdfgVC8A13J",
        "outputId": "e547b5a5-236b-44d0-8b7c-7f7ed448648f"
      },
      "execution_count": 3,
      "outputs": [
        {
          "output_type": "stream",
          "name": "stdout",
          "text": [
            "<class 'tuple'>\n"
          ]
        }
      ]
    },
    {
      "cell_type": "code",
      "source": [
        "another_tuple = tuple(range(0, 11))\n",
        "print(another_tuple)"
      ],
      "metadata": {
        "colab": {
          "base_uri": "https://localhost:8080/"
        },
        "id": "efISlaAcBMUw",
        "outputId": "52f169b0-a259-41ad-8056-443491dcd3ce"
      },
      "execution_count": 4,
      "outputs": [
        {
          "output_type": "stream",
          "name": "stdout",
          "text": [
            "(0, 1, 2, 3, 4, 5, 6, 7, 8, 9, 10)\n"
          ]
        }
      ]
    },
    {
      "cell_type": "code",
      "source": [
        "# Accessing tuple elements\n",
        "print(another_tuple[0])"
      ],
      "metadata": {
        "colab": {
          "base_uri": "https://localhost:8080/"
        },
        "id": "QOUBH-cOBlJh",
        "outputId": "4b8f6ff1-48ca-4969-8f33-16f225be4dd2"
      },
      "execution_count": 5,
      "outputs": [
        {
          "output_type": "stream",
          "name": "stdout",
          "text": [
            "0\n"
          ]
        }
      ]
    },
    {
      "cell_type": "code",
      "source": [
        "# One cannot modify it since it is immutable\n",
        "another_tuple[0] = 1\n",
        "print(another_tuple)"
      ],
      "metadata": {
        "colab": {
          "base_uri": "https://localhost:8080/",
          "height": 176
        },
        "id": "_kor1as9Bp8i",
        "outputId": "627a1028-9bf6-4583-8bda-23da95b9921b"
      },
      "execution_count": 6,
      "outputs": [
        {
          "output_type": "error",
          "ename": "TypeError",
          "evalue": "'tuple' object does not support item assignment",
          "traceback": [
            "\u001b[0;31m---------------------------------------------------------------------------\u001b[0m",
            "\u001b[0;31mTypeError\u001b[0m                                 Traceback (most recent call last)",
            "\u001b[0;32m<ipython-input-6-fec0d74f83db>\u001b[0m in \u001b[0;36m<cell line: 0>\u001b[0;34m()\u001b[0m\n\u001b[1;32m      1\u001b[0m \u001b[0;31m# One cannot modify it since it is immutable\u001b[0m\u001b[0;34m\u001b[0m\u001b[0;34m\u001b[0m\u001b[0m\n\u001b[0;32m----> 2\u001b[0;31m \u001b[0manother_tuple\u001b[0m\u001b[0;34m[\u001b[0m\u001b[0;36m0\u001b[0m\u001b[0;34m]\u001b[0m \u001b[0;34m=\u001b[0m \u001b[0;36m1\u001b[0m\u001b[0;34m\u001b[0m\u001b[0;34m\u001b[0m\u001b[0m\n\u001b[0m\u001b[1;32m      3\u001b[0m \u001b[0mprint\u001b[0m\u001b[0;34m(\u001b[0m\u001b[0manother_tuple\u001b[0m\u001b[0;34m)\u001b[0m\u001b[0;34m\u001b[0m\u001b[0;34m\u001b[0m\u001b[0m\n",
            "\u001b[0;31mTypeError\u001b[0m: 'tuple' object does not support item assignment"
          ]
        }
      ]
    },
    {
      "cell_type": "code",
      "source": [
        "for i in another_tuple:\n",
        "    print(i, end=\" \")"
      ],
      "metadata": {
        "colab": {
          "base_uri": "https://localhost:8080/"
        },
        "id": "Vsxqd4BHEvr6",
        "outputId": "009835df-e79a-4982-884d-db137668ab04"
      },
      "execution_count": 7,
      "outputs": [
        {
          "output_type": "stream",
          "name": "stdout",
          "text": [
            "0 1 2 3 4 5 6 7 8 9 10 "
          ]
        }
      ]
    },
    {
      "cell_type": "code",
      "source": [
        "if 8 in another_tuple:\n",
        "  print(\"Yes\")"
      ],
      "metadata": {
        "colab": {
          "base_uri": "https://localhost:8080/"
        },
        "id": "1CfT4sjWE2V2",
        "outputId": "96517246-3ece-482e-f9f8-75be412edf7c"
      },
      "execution_count": 8,
      "outputs": [
        {
          "output_type": "stream",
          "name": "stdout",
          "text": [
            "Yes\n"
          ]
        }
      ]
    },
    {
      "cell_type": "code",
      "source": [
        "my_tuple = ('a','p','p','l','e','p','i','e')\n",
        "print(len(my_tuple))"
      ],
      "metadata": {
        "colab": {
          "base_uri": "https://localhost:8080/"
        },
        "id": "asJMTtjQFNyU",
        "outputId": "cd0fc6a0-0855-4930-fcc4-ae350fb879b7"
      },
      "execution_count": 14,
      "outputs": [
        {
          "output_type": "stream",
          "name": "stdout",
          "text": [
            "8\n"
          ]
        }
      ]
    },
    {
      "cell_type": "code",
      "source": [
        "my_tuple.count(\"e\")"
      ],
      "metadata": {
        "colab": {
          "base_uri": "https://localhost:8080/"
        },
        "id": "nzvpmZCuGe3U",
        "outputId": "7256ced5-49db-4e52-f08c-57beb65934f5"
      },
      "execution_count": 15,
      "outputs": [
        {
          "output_type": "execute_result",
          "data": {
            "text/plain": [
              "2"
            ]
          },
          "metadata": {},
          "execution_count": 15
        }
      ]
    },
    {
      "cell_type": "code",
      "source": [
        "my_tuple.index(\"e\")"
      ],
      "metadata": {
        "colab": {
          "base_uri": "https://localhost:8080/"
        },
        "id": "mbBhlaSOGpay",
        "outputId": "44c8efa3-85ae-401d-c1a1-21d37766a62d"
      },
      "execution_count": 17,
      "outputs": [
        {
          "output_type": "execute_result",
          "data": {
            "text/plain": [
              "4"
            ]
          },
          "metadata": {},
          "execution_count": 17
        }
      ]
    },
    {
      "cell_type": "code",
      "source": [
        "# Turn tuple into a list\n",
        "my_list = list(my_tuple)\n",
        "print(my_list)"
      ],
      "metadata": {
        "colab": {
          "base_uri": "https://localhost:8080/"
        },
        "id": "HsfxP4kUHF2v",
        "outputId": "e8d194d4-58b1-4f90-c2bd-1368d525b3f7"
      },
      "execution_count": 18,
      "outputs": [
        {
          "output_type": "stream",
          "name": "stdout",
          "text": [
            "['a', 'p', 'p', 'l', 'e', 'p', 'i', 'e']\n"
          ]
        }
      ]
    },
    {
      "cell_type": "code",
      "source": [
        "# And vice versa\n",
        "my_tuple_1 = tuple(my_list)\n",
        "print(my_tuple_1)"
      ],
      "metadata": {
        "colab": {
          "base_uri": "https://localhost:8080/"
        },
        "id": "QARwMA7YHS9C",
        "outputId": "123f8cfe-a104-49bf-81f8-19b517a8d3ad"
      },
      "execution_count": 19,
      "outputs": [
        {
          "output_type": "stream",
          "name": "stdout",
          "text": [
            "('a', 'p', 'p', 'l', 'e', 'p', 'i', 'e')\n"
          ]
        }
      ]
    },
    {
      "cell_type": "markdown",
      "source": [
        "Slicing:"
      ],
      "metadata": {
        "id": "1dQEn70uHsNL"
      }
    },
    {
      "cell_type": "code",
      "source": [
        "hay_tuple = tuple(range(0, 11))\n",
        "print(hay_tuple)\n",
        "\n",
        "sliced_part = hay_tuple[2:5]\n",
        "print(sliced_part)"
      ],
      "metadata": {
        "colab": {
          "base_uri": "https://localhost:8080/"
        },
        "id": "KbK6g2oKHdf7",
        "outputId": "648a758e-0ead-466d-e855-e64caeeac6b4"
      },
      "execution_count": 20,
      "outputs": [
        {
          "output_type": "stream",
          "name": "stdout",
          "text": [
            "(0, 1, 2, 3, 4, 5, 6, 7, 8, 9, 10)\n",
            "(2, 3, 4)\n"
          ]
        }
      ]
    },
    {
      "cell_type": "code",
      "source": [
        "reversed_tuple = hay_tuple[::-1]\n",
        "print(reversed_tuple)"
      ],
      "metadata": {
        "colab": {
          "base_uri": "https://localhost:8080/"
        },
        "id": "s4iGf0nFH3Vw",
        "outputId": "78075c07-1cb2-495a-8d2d-55419c22f1ae"
      },
      "execution_count": 21,
      "outputs": [
        {
          "output_type": "stream",
          "name": "stdout",
          "text": [
            "(10, 9, 8, 7, 6, 5, 4, 3, 2, 1, 0)\n"
          ]
        }
      ]
    },
    {
      "cell_type": "code",
      "source": [
        "# Unpacking elements\n",
        "a, b, c, *other, d = hay_tuple\n",
        "print(a)\n",
        "print(b)\n",
        "print(c)\n",
        "print(other)  # This will turn into a list of remaining elements\n",
        "print(d)"
      ],
      "metadata": {
        "colab": {
          "base_uri": "https://localhost:8080/"
        },
        "id": "4LvAe8ztIGbs",
        "outputId": "75e19b5b-911b-46cf-e705-c11dab86e08e"
      },
      "execution_count": 22,
      "outputs": [
        {
          "output_type": "stream",
          "name": "stdout",
          "text": [
            "0\n",
            "1\n",
            "2\n",
            "[3, 4, 5, 6, 7, 8, 9]\n",
            "10\n"
          ]
        }
      ]
    },
    {
      "cell_type": "code",
      "source": [
        "# Practice\n",
        "fruits = (\"apple\", \"banana\", \"cherry\", \"watermelon\", \"strawberry\", \"blueberry\")\n",
        "(first, *in_between, last) = fruits\n",
        "\n",
        "print(first)\n",
        "print(in_between)\n",
        "print(last)"
      ],
      "metadata": {
        "colab": {
          "base_uri": "https://localhost:8080/"
        },
        "id": "fFLefj6NIa_z",
        "outputId": "25712249-7ab5-4710-97ae-d87021bbfe8d"
      },
      "execution_count": 27,
      "outputs": [
        {
          "output_type": "stream",
          "name": "stdout",
          "text": [
            "apple\n",
            "['banana', 'cherry', 'watermelon', 'strawberry']\n",
            "blueberry\n"
          ]
        }
      ]
    },
    {
      "cell_type": "code",
      "source": [
        "from genericpath import getsize\n",
        "# Working with tuples is sometimes more efficient than working with lists especially with large data. It takes less space in memory.\n",
        "\n",
        "import sys\n",
        "my_list = [0, 1, 2, \"hello\", True]\n",
        "my_tuple = (0, 1, 2, \"hello\", True)\n",
        "print(sys.getsizeof(my_list), \"bytes\")\n",
        "print(sys.getsizeof(my_tuple), \"bytes\")"
      ],
      "metadata": {
        "colab": {
          "base_uri": "https://localhost:8080/"
        },
        "id": "hCWSYvtVI4m3",
        "outputId": "1a584209-8a90-4e6a-ca50-4b3f09880f32"
      },
      "execution_count": 30,
      "outputs": [
        {
          "output_type": "stream",
          "name": "stdout",
          "text": [
            "104 bytes\n",
            "80 bytes\n"
          ]
        }
      ]
    },
    {
      "cell_type": "code",
      "source": [
        "import timeit\n",
        "print(timeit.timeit(stmt=\"[0, 1, 2, 3, 4, 5]\", number=1000))\n",
        "print(timeit.timeit(stmt=\"(0, 1, 2, 3, 4, 5)\", number=1000))\n",
        "\n",
        "# It took longer to create the list than to create the tuple."
      ],
      "metadata": {
        "colab": {
          "base_uri": "https://localhost:8080/"
        },
        "id": "VRNlM-F-JsW-",
        "outputId": "a922036b-b081-4a1e-c64a-b179cf748c69"
      },
      "execution_count": 31,
      "outputs": [
        {
          "output_type": "stream",
          "name": "stdout",
          "text": [
            "5.604899979516631e-05\n",
            "1.2401999811118003e-05\n"
          ]
        }
      ]
    },
    {
      "cell_type": "code",
      "source": [],
      "metadata": {
        "id": "hbxAxX17KWUy"
      },
      "execution_count": null,
      "outputs": []
    }
  ]
}