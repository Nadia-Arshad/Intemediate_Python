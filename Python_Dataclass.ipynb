{
  "nbformat": 4,
  "nbformat_minor": 0,
  "metadata": {
    "colab": {
      "provenance": []
    },
    "kernelspec": {
      "name": "python3",
      "display_name": "Python 3"
    },
    "language_info": {
      "name": "python"
    }
  },
  "cells": [
    {
      "cell_type": "code",
      "execution_count": null,
      "metadata": {
        "colab": {
          "base_uri": "https://localhost:8080/"
        },
        "id": "F6m0NONrxsSw",
        "outputId": "108bc054-a060-49ab-f20f-aee361e23efa"
      },
      "outputs": [
        {
          "output_type": "stream",
          "name": "stdout",
          "text": [
            "False\n",
            "True\n",
            "False\n",
            "False\n",
            "(3, 3)\n",
            "(-1, 1)\n"
          ]
        }
      ],
      "source": [
        "class Point:\n",
        "  x : int     # these two are fiels which are type annotated\n",
        "  y : int\n",
        "\n",
        "  def __init__(self, x, y):             # this is init function, that helps to initialize the objects of this class\n",
        "    self.x = x\n",
        "    self.y = y\n",
        "\n",
        "  def __rep__(self):                    # this is repr function, that actually shows what fields are inside this class.\n",
        "    return f\"Point(x = {self.x}, y = {self.y})\"\n",
        "\n",
        "  def __add__(self, other):\n",
        "    return self.x + other.x, self.y + other.y\n",
        "\n",
        "  def __sub__(self, other):\n",
        "    return self.x - other.x, self.y - other.y\n",
        "\n",
        "  def __eq__(self, other):\n",
        "    return self.x == other.x and self.y == other.y\n",
        "\n",
        "  def __ne__(self, other):\n",
        "    return not self == other\n",
        "\n",
        "  def __gt__(self, other):\n",
        "    return self.x > other.x and self.y > other.y\n",
        "\n",
        "  def __ge__(self, other):\n",
        "    return self.x >= other.x and self.y >= other.y\n",
        "\n",
        "p1 = Point(1, 2)\n",
        "p2 = Point(2, 1)\n",
        "print(p1 == p2)\n",
        "print(p1 != p2)\n",
        "print(p1 > p2)\n",
        "print(p1 >= p2)\n",
        "print(p1 + p2)\n",
        "print(p1 - p2)\n"
      ]
    },
    {
      "cell_type": "markdown",
      "source": [
        "Now doing the same thing using ***dataclass decorator***:\n",
        "A decorator modifies a *class, method or a function*."
      ],
      "metadata": {
        "id": "ckHpFjQs0Jb8"
      }
    },
    {
      "cell_type": "code",
      "source": [
        "from dataclasses import dataclass\n",
        "\n",
        "@dataclass(order=True)       # For dataclass to support gt, ge, lt, le operations we pass order=True as its parameter\n",
        "class Point:\n",
        "  x : int\n",
        "  y : int\n",
        "\n",
        "\n",
        "p1 = Point(1, 2)\n",
        "p2 = Point(2, 1)\n",
        "print(p1)\n",
        "print(p1 == p2)\n",
        "print(p1 != p2)\n",
        "print(p1 > p2)\n",
        "print(p1 >= p2)\n",
        "# print(p1 + p2) It doesn't support addition and subtraction, to execute it we need to manually add them as we did in the cell above.\n",
        "# print(p1 - p2)"
      ],
      "metadata": {
        "colab": {
          "base_uri": "https://localhost:8080/"
        },
        "id": "2D5z98-Gyf5D",
        "outputId": "6c6b7a55-011a-40b8-acc6-673e953b7c74"
      },
      "execution_count": null,
      "outputs": [
        {
          "output_type": "stream",
          "name": "stdout",
          "text": [
            "Point(x=1, y=2)\n",
            "False\n",
            "True\n",
            "False\n",
            "False\n"
          ]
        }
      ]
    },
    {
      "cell_type": "code",
      "source": [
        "# Now we do some more practice with dataclass\n",
        "\n",
        "from dataclasses import dataclass\n",
        "\n",
        "@dataclass\n",
        "class InventoryItem0:\n",
        "  \"\"\"Class for keeping track of an item in inventory.\"\"\"\n",
        "  name : str\n",
        "  unit_price : float\n",
        "  quantity_on_hand : int = 0\n",
        "  sizes : list[str] = []          # This is not feasable we will sort it out using field in coming cells\n",
        "\n",
        "  def total_cose(self) -> float:\n",
        "    return self.unit_price * self.quantity_on_hand\n",
        "\n",
        "\n",
        "# This would be written like this if you won't use dataclass\n",
        "\n",
        "class InventoryItem1:\n",
        "  \"\"\"Class for keeping track of an item in inventory.\"\"\"\n",
        "  def __init__(self, name : str, unit_price:  float, quantity_on_hand: int = 0):\n",
        "    self.name = name\n",
        "    self.unit_price = unit_price\n",
        "    self.quantity_on_hand = quantity_on_hand\n",
        "\n",
        "    def total_cose(self) -> float:\n",
        "      return self.unit_price * self.quantity_on_hand\n"
      ],
      "metadata": {
        "id": "F-tWdrdS0ToL"
      },
      "execution_count": null,
      "outputs": []
    },
    {
      "cell_type": "markdown",
      "source": [
        "Now Using dataclass parameters: Fields"
      ],
      "metadata": {
        "id": "4h-sSyrY6dMS"
      }
    },
    {
      "cell_type": "code",
      "source": [
        "def func(lst=[]):\n",
        "  lst.append(1)\n",
        "  print(lst)\n",
        "\n",
        "func()\n",
        "func()\n",
        "func()"
      ],
      "metadata": {
        "colab": {
          "base_uri": "https://localhost:8080/"
        },
        "id": "_-E-uZPw6jEs",
        "outputId": "63ee8ac9-be7a-4a4a-a532-24c7804f8d51"
      },
      "execution_count": null,
      "outputs": [
        {
          "output_type": "stream",
          "name": "stdout",
          "text": [
            "[1]\n",
            "[1, 1]\n",
            "[1, 1, 1]\n"
          ]
        }
      ]
    },
    {
      "cell_type": "code",
      "source": [
        "# Now in the above cell our problem is whenever our function is called it appends one to the list which is not desired, to avoid it we will use Field parameter from dataclass\n",
        "from dataclasses import dataclass, field\n",
        "\n",
        "@dataclass\n",
        "class InventoryItem:\n",
        "  \"\"\"Class for keeping track of an item in inventory.\"\"\"\n",
        "  name : str\n",
        "  unit_price : float\n",
        "  quantity_on_hand : int = 0\n",
        "  sizes : list[str] = field(default_factory=list)         # So instead of just list[str] = [], we use field function from dataclasses and set the parameter default_factory to list.\n",
        "\n",
        "  def total_cost(self) -> float:\n",
        "    return self.unit_price * self.quantity_on_hand\n",
        "\n",
        "\n",
        "inventory = InventoryItem(\"abc\", 2.3, 4, [\"small\", \"medium\"])\n",
        "print(inventory)\n",
        "print(inventory.total_cost())\n",
        "\n",
        "help(InventoryItem)                     # Using help function and passing in the class name can get you what's inside the class.\n"
      ],
      "metadata": {
        "colab": {
          "base_uri": "https://localhost:8080/"
        },
        "id": "_dGR1I4A6tXW",
        "outputId": "7d3caaab-2afe-44e8-867a-3bdb75aa2da9"
      },
      "execution_count": null,
      "outputs": [
        {
          "output_type": "stream",
          "name": "stdout",
          "text": [
            "InventoryItem(name='abc', unit_price=2.3, quantity_on_hand=4, sizes=['small', 'medium'])\n",
            "9.2\n",
            "Help on class InventoryItem in module __main__:\n",
            "\n",
            "class InventoryItem(builtins.object)\n",
            " |  InventoryItem(name: str, unit_price: float, quantity_on_hand: int = 0, sizes: list[str] = <factory>) -> None\n",
            " |  \n",
            " |  Class for keeping track of an item in inventory.\n",
            " |  \n",
            " |  Methods defined here:\n",
            " |  \n",
            " |  __eq__(self, other)\n",
            " |      Return self==value.\n",
            " |  \n",
            " |  __init__(self, name: str, unit_price: float, quantity_on_hand: int = 0, sizes: list[str] = <factory>) -> None\n",
            " |      Initialize self.  See help(type(self)) for accurate signature.\n",
            " |  \n",
            " |  __repr__(self)\n",
            " |      Return repr(self).\n",
            " |  \n",
            " |  total_cost(self) -> float\n",
            " |  \n",
            " |  ----------------------------------------------------------------------\n",
            " |  Data descriptors defined here:\n",
            " |  \n",
            " |  __dict__\n",
            " |      dictionary for instance variables\n",
            " |  \n",
            " |  __weakref__\n",
            " |      list of weak references to the object\n",
            " |  \n",
            " |  ----------------------------------------------------------------------\n",
            " |  Data and other attributes defined here:\n",
            " |  \n",
            " |  __annotations__ = {'name': <class 'str'>, 'quantity_on_hand': <class '...\n",
            " |  \n",
            " |  __dataclass_fields__ = {'name': Field(name='name',type=<class 'str'>,d...\n",
            " |  \n",
            " |  __dataclass_params__ = _DataclassParams(init=True,repr=True,eq=True,or...\n",
            " |  \n",
            " |  __hash__ = None\n",
            " |  \n",
            " |  __match_args__ = ('name', 'unit_price', 'quantity_on_hand', 'sizes')\n",
            " |  \n",
            " |  quantity_on_hand = 0\n",
            "\n"
          ]
        }
      ]
    },
    {
      "cell_type": "code",
      "source": [
        "# For class varibles\n",
        "from dataclasses import dataclass\n",
        "from typing import ClassVar\n",
        "\n",
        "@dataclass\n",
        "class InventoryHealth:\n",
        "  name : str\n",
        "  value : int\n",
        "  health : int\n",
        "  class_var : ClassVar[int] = 100\n",
        "\n",
        "# Now dataclass will not include class variable in any of its methods."
      ],
      "metadata": {
        "id": "Kumt6QUU9OCM"
      },
      "execution_count": null,
      "outputs": []
    },
    {
      "cell_type": "markdown",
      "source": [
        "Inheretence in dataclass:\n"
      ],
      "metadata": {
        "id": "OxlnoMWvANrg"
      }
    },
    {
      "cell_type": "code",
      "source": [
        "from dataclasses import dataclass\n",
        "\n",
        "class Rectangle:\n",
        "  def __init__(self, length, width):\n",
        "    self.length = length\n",
        "    self.width = width\n",
        "\n",
        "    def area(self):\n",
        "      return self.length * self.width\n",
        "\n",
        "    def perimeter(self):\n",
        "      return 2 * self.length + 2 * self.width\n",
        "\n",
        "@dataclass\n",
        "class Square(Rectangle):\n",
        "  def __post__init__(self):\n",
        "    super().__init__(self.length, self.length)\n"
      ],
      "metadata": {
        "id": "xFY4At6__-lu"
      },
      "execution_count": null,
      "outputs": []
    },
    {
      "cell_type": "code",
      "source": [
        "# Here one class can inherit the other and can use all its parameters using @dataclass decorator.\n",
        "\n",
        "from dataclasses import dataclass\n",
        "\n",
        "@dataclass\n",
        "class Face:\n",
        "  eyes : int\n",
        "  lips : int\n",
        "  nose : int\n",
        "  hair : str\n",
        "\n",
        "@dataclass\n",
        "class Color(Face):\n",
        "  eye_color : str\n",
        "  lip_color : str\n",
        "  hair_color : str\n",
        "\n",
        "face_01 = Color(2, 2, 1, \"many\", \"brown\", \"red\", \"black\")\n",
        "print(face_01)"
      ],
      "metadata": {
        "colab": {
          "base_uri": "https://localhost:8080/"
        },
        "id": "XI89F_OXBtop",
        "outputId": "c9c390ab-54eb-4dc1-92cc-6a27d6ad33ae"
      },
      "execution_count": 34,
      "outputs": [
        {
          "output_type": "stream",
          "name": "stdout",
          "text": [
            "Color(eyes=2, lips=2, nose=1, hair='many', eye_color='brown', lip_color='red', hair_color='black')\n"
          ]
        }
      ]
    },
    {
      "cell_type": "code",
      "source": [
        "from dataclasses import dataclass, InitVar\n",
        "\n",
        "@dataclass\n",
        "class C:\n",
        "  i : int\n",
        "  j : int | None = None\n",
        "  database : InitVar [str | None] = None           # It will be included in the constructor but not be included in this class' methods.\n",
        "\n",
        "\n",
        "  def __post__init__(self, database):              # database is not a regular attribute of C but will be called in __post__init__ constructor.\n",
        "    if self.j is None and database is not None:\n",
        "      self.j = database.lookup(\"j\")\n",
        "\n",
        "c = C(10, database={\"j\":\"value\"})\n",
        "print(c)\n",
        "\n",
        "\n",
        "#Essentially, the database InitVar is used to potentially initialize the j attribute if no explicit value was given for j during object creation."
      ],
      "metadata": {
        "id": "GEQdxm1GCh46",
        "colab": {
          "base_uri": "https://localhost:8080/"
        },
        "outputId": "50c3ced2-b7b4-4054-b2bb-d13151c652fd"
      },
      "execution_count": 39,
      "outputs": [
        {
          "output_type": "stream",
          "name": "stdout",
          "text": [
            "C(i=10, j=None)\n"
          ]
        }
      ]
    },
    {
      "cell_type": "code",
      "source": [],
      "metadata": {
        "id": "EKZ1Z_OVGr4T"
      },
      "execution_count": 37,
      "outputs": []
    }
  ]
}