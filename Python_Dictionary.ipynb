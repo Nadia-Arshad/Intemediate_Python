{
  "nbformat": 4,
  "nbformat_minor": 0,
  "metadata": {
    "colab": {
      "provenance": []
    },
    "kernelspec": {
      "name": "python3",
      "display_name": "Python 3"
    },
    "language_info": {
      "name": "python"
    }
  },
  "cells": [
    {
      "cell_type": "code",
      "execution_count": 4,
      "metadata": {
        "colab": {
          "base_uri": "https://localhost:8080/"
        },
        "id": "-XUfCzMqPAf4",
        "outputId": "d654a5fc-52e2-49d0-8cbc-e71553d52895"
      },
      "outputs": [
        {
          "output_type": "stream",
          "name": "stdout",
          "text": [
            "{'key1': 'value1', 'key2': 'value2'}\n"
          ]
        }
      ],
      "source": [
        "# Dictionary : Key, value pairs\n",
        "# Simple Dictionary\n",
        "\n",
        "my_dict = {'key1':'value1','key2':'value2'}\n",
        "print(my_dict)"
      ]
    },
    {
      "cell_type": "code",
      "source": [
        "# Use dict function\n",
        "\n",
        "my_dict = dict(name=\"Madi\", age=28, city=\"Lahore\")\n",
        "print(my_dict)"
      ],
      "metadata": {
        "colab": {
          "base_uri": "https://localhost:8080/"
        },
        "id": "Pphhd7bTQ6ph",
        "outputId": "2676445b-5d35-4e30-f005-2fb102059407"
      },
      "execution_count": 5,
      "outputs": [
        {
          "output_type": "stream",
          "name": "stdout",
          "text": [
            "{'name': 'Madi', 'age': 28, 'city': 'Lahore'}\n"
          ]
        }
      ]
    },
    {
      "cell_type": "code",
      "source": [
        "# Print value of a certain key in your dictionary\n",
        "\n",
        "value = my_dict['name']\n",
        "print(value)"
      ],
      "metadata": {
        "colab": {
          "base_uri": "https://localhost:8080/"
        },
        "id": "8dE2v0WITJUN",
        "outputId": "221ac3fe-46be-4293-dec4-104c5ce61083"
      },
      "execution_count": 12,
      "outputs": [
        {
          "output_type": "stream",
          "name": "stdout",
          "text": [
            "Madi\n"
          ]
        }
      ]
    },
    {
      "cell_type": "code",
      "source": [
        "# Add a key value pair to an existing dictionary\n",
        "my_dict[\"education\"] = \"Master\"\n",
        "print(my_dict)"
      ],
      "metadata": {
        "colab": {
          "base_uri": "https://localhost:8080/"
        },
        "id": "gsHk_yb1TQ_2",
        "outputId": "748ffc02-b2e6-41c3-b7c1-6409d2040527"
      },
      "execution_count": 14,
      "outputs": [
        {
          "output_type": "stream",
          "name": "stdout",
          "text": [
            "{'name': 'Madi', 'age': 28, 'city': 'Lahore', 'education': 'Master'}\n"
          ]
        }
      ]
    },
    {
      "cell_type": "code",
      "source": [
        "# Modify it further\n",
        "my_dict[\"education\"] = \"Masters in English Literature\"\n",
        "print(my_dict)"
      ],
      "metadata": {
        "colab": {
          "base_uri": "https://localhost:8080/"
        },
        "id": "K9dbNUBMT0vN",
        "outputId": "8671c8c7-aabf-403c-adec-7492a74adb7b"
      },
      "execution_count": 15,
      "outputs": [
        {
          "output_type": "stream",
          "name": "stdout",
          "text": [
            "{'name': 'Madi', 'age': 28, 'city': 'Lahore', 'education': 'Masters in English Literature'}\n"
          ]
        }
      ]
    },
    {
      "cell_type": "markdown",
      "source": [
        "Deleting pairs"
      ],
      "metadata": {
        "id": "k51SquBpUpmo"
      }
    },
    {
      "cell_type": "code",
      "source": [
        "del my_dict[\"education\"]\n",
        "print(my_dict)"
      ],
      "metadata": {
        "colab": {
          "base_uri": "https://localhost:8080/"
        },
        "id": "pRF6SlKNUZMG",
        "outputId": "2d9d5030-edf0-42ed-8937-5a29a3460a0f"
      },
      "execution_count": 18,
      "outputs": [
        {
          "output_type": "stream",
          "name": "stdout",
          "text": [
            "{'name': 'Madi', 'age': 28, 'city': 'Lahore'}\n"
          ]
        }
      ]
    },
    {
      "cell_type": "code",
      "source": [
        "my_dict.pop(\"name\")\n",
        "print(my_dict)"
      ],
      "metadata": {
        "colab": {
          "base_uri": "https://localhost:8080/"
        },
        "id": "t9B1N_7ZUzdb",
        "outputId": "d682b942-02d1-4acb-ee00-667299aed09d"
      },
      "execution_count": 19,
      "outputs": [
        {
          "output_type": "stream",
          "name": "stdout",
          "text": [
            "{'age': 28, 'city': 'Lahore'}\n"
          ]
        }
      ]
    },
    {
      "cell_type": "code",
      "source": [
        "# For deleting the last item:\n",
        "\n",
        "my_dict.popitem()\n",
        "print(my_dict)"
      ],
      "metadata": {
        "colab": {
          "base_uri": "https://localhost:8080/"
        },
        "id": "OxdbeVWAVA9v",
        "outputId": "cb93b2cf-ec57-44d6-9918-c8727a8ac663"
      },
      "execution_count": 20,
      "outputs": [
        {
          "output_type": "stream",
          "name": "stdout",
          "text": [
            "{'age': 28}\n"
          ]
        }
      ]
    },
    {
      "cell_type": "code",
      "source": [
        "if \"age\" in my_dict:\n",
        "    print(\"Yes\")\n",
        "else:\n",
        "    print(\"No\")"
      ],
      "metadata": {
        "colab": {
          "base_uri": "https://localhost:8080/"
        },
        "id": "ReC_6TxEVQn6",
        "outputId": "a348a25e-908d-4386-dad9-360a352fe9f9"
      },
      "execution_count": 22,
      "outputs": [
        {
          "output_type": "stream",
          "name": "stdout",
          "text": [
            "Yes\n"
          ]
        }
      ]
    },
    {
      "cell_type": "code",
      "source": [
        "my_dict= {\"fruit\" : \"cherry\", \"vege\" : \"potato\", \"nuts\" : \"almonds\"}\n",
        "try:\n",
        "    print(my_dict[\"fruit\"])\n",
        "except:\n",
        "    print(\"Error\")"
      ],
      "metadata": {
        "colab": {
          "base_uri": "https://localhost:8080/"
        },
        "id": "LU6XBw9nVMNN",
        "outputId": "10f79fde-e09f-4274-e88b-b3004cb63a6a"
      },
      "execution_count": 25,
      "outputs": [
        {
          "output_type": "stream",
          "name": "stdout",
          "text": [
            "cherry\n"
          ]
        }
      ]
    },
    {
      "cell_type": "code",
      "source": [
        "my_dict= {\"fruit\" : \"cherry\", \"vege\" : \"potato\", \"nuts\" : \"almonds\"}\n",
        "try:\n",
        "    print(my_dict[\"furniture\"])\n",
        "except:\n",
        "    print(\"Error\")"
      ],
      "metadata": {
        "colab": {
          "base_uri": "https://localhost:8080/"
        },
        "id": "Mi8uvfIvVucs",
        "outputId": "0fe767ab-7298-48c9-b695-ca64684f4eb7"
      },
      "execution_count": 26,
      "outputs": [
        {
          "output_type": "stream",
          "name": "stdout",
          "text": [
            "Error\n"
          ]
        }
      ]
    },
    {
      "cell_type": "code",
      "source": [
        "for key in my_dict:\n",
        "  print(key)"
      ],
      "metadata": {
        "colab": {
          "base_uri": "https://localhost:8080/"
        },
        "id": "hNWUwD0zV2jp",
        "outputId": "2c47177c-5673-4473-8dcf-7f762f7257ee"
      },
      "execution_count": 27,
      "outputs": [
        {
          "output_type": "stream",
          "name": "stdout",
          "text": [
            "fruit\n",
            "vege\n",
            "nuts\n"
          ]
        }
      ]
    },
    {
      "cell_type": "code",
      "source": [
        "my_dict= {\"fruit\" : \"cherry\", \"vege\" : \"potato\", \"nuts\" : \"almonds\"}\n",
        "for value in my_dict.values():\n",
        "  print(value)"
      ],
      "metadata": {
        "colab": {
          "base_uri": "https://localhost:8080/"
        },
        "id": "HnsG5aGkWEsv",
        "outputId": "31a30a85-02f5-4287-a18c-f70c9537f950"
      },
      "execution_count": 34,
      "outputs": [
        {
          "output_type": "stream",
          "name": "stdout",
          "text": [
            "cherry\n",
            "potato\n",
            "almonds\n"
          ]
        }
      ]
    },
    {
      "cell_type": "code",
      "source": [
        "for key in my_dict.keys():\n",
        "  print(key)"
      ],
      "metadata": {
        "colab": {
          "base_uri": "https://localhost:8080/"
        },
        "id": "e-byYMBnWHjQ",
        "outputId": "536b9690-725c-4481-9bc9-9a79dc798c6b"
      },
      "execution_count": 33,
      "outputs": [
        {
          "output_type": "stream",
          "name": "stdout",
          "text": [
            "fruit\n",
            "vege\n",
            "nuts\n"
          ]
        }
      ]
    },
    {
      "cell_type": "code",
      "source": [
        "for key, value in my_dict.items():\n",
        "  print(key, value)\n",
        "  print(value, key)"
      ],
      "metadata": {
        "colab": {
          "base_uri": "https://localhost:8080/"
        },
        "id": "kPoi92hkWtvM",
        "outputId": "e77bb4ca-a130-4453-9371-c2236eac6c82"
      },
      "execution_count": 35,
      "outputs": [
        {
          "output_type": "stream",
          "name": "stdout",
          "text": [
            "fruit cherry\n",
            "cherry fruit\n",
            "vege potato\n",
            "potato vege\n",
            "nuts almonds\n",
            "almonds nuts\n"
          ]
        }
      ]
    },
    {
      "cell_type": "markdown",
      "source": [
        "Copying:"
      ],
      "metadata": {
        "id": "d8otiDErXFrw"
      }
    },
    {
      "cell_type": "code",
      "source": [
        "# Shallow Copy : Any changes in copy will modify the original dictionary as well\n",
        "\n",
        "my_dict_copy = my_dict\n",
        "print(my_dict_copy)"
      ],
      "metadata": {
        "colab": {
          "base_uri": "https://localhost:8080/"
        },
        "id": "SHxWt7lRW3js",
        "outputId": "25142a9c-6b15-4642-bc7c-38f67a851c94"
      },
      "execution_count": 36,
      "outputs": [
        {
          "output_type": "stream",
          "name": "stdout",
          "text": [
            "{'fruit': 'cherry', 'vege': 'potato', 'nuts': 'almonds'}\n"
          ]
        }
      ]
    },
    {
      "cell_type": "code",
      "source": [
        "my_dict_copy [\"drinks\"] = \"coconut milk\"\n",
        "print(my_dict)"
      ],
      "metadata": {
        "colab": {
          "base_uri": "https://localhost:8080/"
        },
        "id": "9tivMl-wXN5C",
        "outputId": "d2e705b8-91ff-4f9b-8bd2-8d6200f5af2c"
      },
      "execution_count": 37,
      "outputs": [
        {
          "output_type": "stream",
          "name": "stdout",
          "text": [
            "{'fruit': 'cherry', 'vege': 'potato', 'nuts': 'almonds', 'drinks': 'coconut milk'}\n"
          ]
        }
      ]
    },
    {
      "cell_type": "code",
      "source": [
        "# To prevent modification of the original dictionary we use copy() function:\n",
        "my_dict_copy_1 =  my_dict.copy()\n",
        "print(my_dict_copy_1)\n",
        "print(my_dict)\n",
        "\n",
        "my_dict_copy_1 [\"fast food\"] = \"burger\"\n",
        "print(my_dict_copy_1)\n",
        "print(my_dict)"
      ],
      "metadata": {
        "colab": {
          "base_uri": "https://localhost:8080/"
        },
        "id": "geKWDXfFXYhO",
        "outputId": "f3a8589a-348f-407b-edff-b7b5fd407891"
      },
      "execution_count": 42,
      "outputs": [
        {
          "output_type": "stream",
          "name": "stdout",
          "text": [
            "{'fruit': 'cherry', 'vege': 'potato', 'nuts': 'almonds', 'drinks': 'coconut milk'}\n",
            "{'fruit': 'cherry', 'vege': 'potato', 'nuts': 'almonds', 'drinks': 'coconut milk'}\n",
            "{'fruit': 'cherry', 'vege': 'potato', 'nuts': 'almonds', 'drinks': 'coconut milk', 'fast food': 'burger'}\n",
            "{'fruit': 'cherry', 'vege': 'potato', 'nuts': 'almonds', 'drinks': 'coconut milk'}\n"
          ]
        }
      ]
    },
    {
      "cell_type": "code",
      "source": [
        "# OR\n",
        "\n",
        "my_dict_copy_1 =  dict(my_dict)\n",
        "print(my_dict_copy_1)\n",
        "\n",
        "my_dict_copy_1 [\"fast food\"] = \"burger\"\n",
        "print(my_dict_copy_1)\n",
        "print(my_dict)\n",
        "\n"
      ],
      "metadata": {
        "colab": {
          "base_uri": "https://localhost:8080/"
        },
        "id": "EUYUTKasX7rX",
        "outputId": "dd571c1a-0d90-4b78-a39e-c312fc3ff2a8"
      },
      "execution_count": 41,
      "outputs": [
        {
          "output_type": "stream",
          "name": "stdout",
          "text": [
            "{'fruit': 'cherry', 'vege': 'potato', 'nuts': 'almonds', 'drinks': 'coconut milk'}\n",
            "{'fruit': 'cherry', 'vege': 'potato', 'nuts': 'almonds', 'drinks': 'coconut milk', 'fast food': 'burger'}\n",
            "{'fruit': 'cherry', 'vege': 'potato', 'nuts': 'almonds', 'drinks': 'coconut milk'}\n"
          ]
        }
      ]
    },
    {
      "cell_type": "code",
      "source": [
        "# Merging two dictionaries\n",
        "\n",
        "dict_1 = {\"name\" : \"Madi\", \"age\" : 28}\n",
        "dict_2 = {\"city\" : \"Lahore\", \"country\" : \"Pakistan\"}\n",
        "\n",
        "# comb_dict = dict_1 + dict_2\n",
        "# print(comb_dict)            Don't try to concatenate dictionaries like you do with lists.**\n",
        "\n",
        "dict_1.update(dict_2)\n",
        "print(dict_1)"
      ],
      "metadata": {
        "colab": {
          "base_uri": "https://localhost:8080/"
        },
        "id": "wzBuswVEYfCo",
        "outputId": "fc1131b8-0f6b-4fbc-88a2-2c3392c8e389"
      },
      "execution_count": 44,
      "outputs": [
        {
          "output_type": "stream",
          "name": "stdout",
          "text": [
            "{'name': 'Madi', 'age': 28, 'city': 'Lahore', 'country': 'Pakistan'}\n"
          ]
        }
      ]
    },
    {
      "cell_type": "code",
      "source": [
        "# Keys and values can be other data types as well\n",
        "\n",
        "dict_1 = {0: 0, 1 : 1, 2: 4, 3: 9, 4: 16, 5: 25, 6: 36, 7: 49, 8: 64, 9: 81}\n",
        "print(dict_1)\n",
        "\n",
        "# Now you can access values like this:\n",
        "\n",
        "value = dict_1[4]\n",
        "print(value)\n",
        "\n"
      ],
      "metadata": {
        "colab": {
          "base_uri": "https://localhost:8080/"
        },
        "id": "zUBj6V-KZGv0",
        "outputId": "90a1d4c7-883e-466e-ef7c-fec76d816aa7"
      },
      "execution_count": 2,
      "outputs": [
        {
          "output_type": "stream",
          "name": "stdout",
          "text": [
            "{0: 0, 1: 1, 2: 4, 3: 9, 4: 16, 5: 25, 6: 36, 7: 49, 8: 64, 9: 81}\n",
            "16\n"
          ]
        }
      ]
    },
    {
      "cell_type": "code",
      "source": [
        "# Tuple in a dictionary\n",
        "\n",
        "this_tuple = (3, 4, 5)\n",
        "this_dict = {this_tuple: 12}\n",
        "print(this_dict)\n"
      ],
      "metadata": {
        "colab": {
          "base_uri": "https://localhost:8080/"
        },
        "id": "WCNqHxs2TN8E",
        "outputId": "5672b01b-3ce0-46b4-bee5-e2c55196f556"
      },
      "execution_count": 3,
      "outputs": [
        {
          "output_type": "stream",
          "name": "stdout",
          "text": [
            "{(3, 4, 5): 12}\n"
          ]
        }
      ]
    },
    {
      "cell_type": "code",
      "source": [
        "# List in a dictionary - We do this when we have to assign multiple values to a single key\n",
        "\n",
        "list_dict =  {\"names\" : [\"Anna\", \"Hailey\", \"Amber\", \"Richard\"], \"ages\" : [13, 18, 12, 11]}\n",
        "print(list_dict)"
      ],
      "metadata": {
        "colab": {
          "base_uri": "https://localhost:8080/"
        },
        "id": "3-brbJbGTlQ8",
        "outputId": "b0839463-393c-4428-e730-af3af4768663"
      },
      "execution_count": 5,
      "outputs": [
        {
          "output_type": "stream",
          "name": "stdout",
          "text": [
            "{'names': ['Anna', 'Hailey', 'Amber', 'Richard'], 'ages': [13, 18, 12, 11]}\n"
          ]
        }
      ]
    },
    {
      "cell_type": "code",
      "source": [],
      "metadata": {
        "id": "ulHBr_4JUPq_"
      },
      "execution_count": null,
      "outputs": []
    }
  ]
}