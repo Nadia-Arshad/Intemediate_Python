{
  "nbformat": 4,
  "nbformat_minor": 0,
  "metadata": {
    "colab": {
      "provenance": []
    },
    "kernelspec": {
      "name": "python3",
      "display_name": "Python 3"
    },
    "language_info": {
      "name": "python"
    }
  },
  "cells": [
    {
      "cell_type": "markdown",
      "source": [
        "Sets --> Unordered, Mutable But no Duplicates"
      ],
      "metadata": {
        "id": "zP6sr3dlUyXq"
      }
    },
    {
      "cell_type": "code",
      "execution_count": 1,
      "metadata": {
        "colab": {
          "base_uri": "https://localhost:8080/"
        },
        "id": "pzc7FH81UxB8",
        "outputId": "ade8ebc4-3fcd-4a8c-964f-cd7e53e1fe11"
      },
      "outputs": [
        {
          "output_type": "stream",
          "name": "stdout",
          "text": [
            "{0, 1, 2, 3, 4, 5, 6, 7, 8, 9, 10}\n"
          ]
        }
      ],
      "source": [
        "this_set = set(range(0, 11))\n",
        "print(this_set)"
      ]
    },
    {
      "cell_type": "code",
      "source": [
        "# We can change a list to a set, this is something we do when we need no duplicates in our list\n",
        "\n",
        "this_list = [1, 2, 4, 5, 6, 9, 6, 4, 7, 12, 3, 0, 2, 5, 3, 4, 0]\n",
        "this_set = set(this_list)\n",
        "print(this_set)"
      ],
      "metadata": {
        "colab": {
          "base_uri": "https://localhost:8080/"
        },
        "id": "8J53LRjNVEU-",
        "outputId": "9579affd-dc55-448c-f4e5-f2482c011d3d"
      },
      "execution_count": 2,
      "outputs": [
        {
          "output_type": "stream",
          "name": "stdout",
          "text": [
            "{0, 1, 2, 3, 4, 5, 6, 7, 9, 12}\n"
          ]
        }
      ]
    },
    {
      "cell_type": "code",
      "source": [
        "# Now change this set back to list if needed\n",
        "\n",
        "new_list = list(this_set)\n",
        "print(new_list)"
      ],
      "metadata": {
        "colab": {
          "base_uri": "https://localhost:8080/"
        },
        "id": "kZUDTUT3Vcpf",
        "outputId": "c18941de-1a00-47a0-ec36-72599711cdd6"
      },
      "execution_count": 3,
      "outputs": [
        {
          "output_type": "stream",
          "name": "stdout",
          "text": [
            "[0, 1, 2, 3, 4, 5, 6, 7, 9, 12]\n"
          ]
        }
      ]
    },
    {
      "cell_type": "code",
      "source": [
        "# We can make sets of strings as well\n",
        "\n",
        "string_set = set(\"Hello, World!\")\n",
        "print(string_set)\n",
        "\n",
        "# Notice it is unordered and no letter is repeated"
      ],
      "metadata": {
        "colab": {
          "base_uri": "https://localhost:8080/"
        },
        "id": "M-MaJr66VpD8",
        "outputId": "27fd09fc-3fff-4ab3-f701-25c414db5387"
      },
      "execution_count": 4,
      "outputs": [
        {
          "output_type": "stream",
          "name": "stdout",
          "text": [
            "{'H', 'l', 'W', 'd', '!', ' ', 'r', ',', 'e', 'o'}\n"
          ]
        }
      ]
    },
    {
      "cell_type": "code",
      "source": [
        "# Empty set, add values\n",
        "\n",
        "first_set = set()          # You cannot use empty braces {} like you do with lists, it would be considered an empty dictionary, instead you would have to use set() function.\n",
        "first_set.add(1)           # Unlike lists where we use append or insert, we will use add to add elements to an empty set\n",
        "first_set.add(2)\n",
        "first_set.add(3)\n",
        "print(first_set)"
      ],
      "metadata": {
        "colab": {
          "base_uri": "https://localhost:8080/"
        },
        "id": "XHyjCTIBVz6E",
        "outputId": "3dfbdf9a-4cab-4ec2-f8ac-7200a9d9118e"
      },
      "execution_count": 5,
      "outputs": [
        {
          "output_type": "stream",
          "name": "stdout",
          "text": [
            "{1, 2, 3}\n"
          ]
        }
      ]
    },
    {
      "cell_type": "code",
      "source": [
        "# Remove elements .remove(element)\n",
        "\n",
        "first_set.remove(3)\n",
        "print(first_set)"
      ],
      "metadata": {
        "colab": {
          "base_uri": "https://localhost:8080/"
        },
        "id": "6PHv7XHbWsVJ",
        "outputId": "8aecb4bf-427f-4b60-b833-5be4a0dc6628"
      },
      "execution_count": 6,
      "outputs": [
        {
          "output_type": "stream",
          "name": "stdout",
          "text": [
            "{1, 2}\n"
          ]
        }
      ]
    },
    {
      "cell_type": "code",
      "source": [
        "# Remove elements .discard(element)\n",
        "\n",
        "another_set = {1, 2, 3, 4, 5, 6, 7, 8, 9, 10}\n",
        "another_set.discard(10)\n",
        "print(another_set)\n",
        "\n"
      ],
      "metadata": {
        "colab": {
          "base_uri": "https://localhost:8080/"
        },
        "id": "pKhMjByUWyTd",
        "outputId": "f6ecae17-5bfc-4dc7-98f6-14de52791916"
      },
      "execution_count": 7,
      "outputs": [
        {
          "output_type": "stream",
          "name": "stdout",
          "text": [
            "{1, 2, 3, 4, 5, 6, 7, 8, 9}\n"
          ]
        }
      ]
    },
    {
      "cell_type": "code",
      "source": [
        "# Remove elements .pop()\n",
        "\n",
        "another_set = {1, 2, 3, 4, 5, 6, 7, 8, 9, 10}\n",
        "what_did_it_pop = another_set.pop()\n",
        "print(what_did_it_pop)\n",
        "print(another_set)"
      ],
      "metadata": {
        "colab": {
          "base_uri": "https://localhost:8080/"
        },
        "id": "qz5O4-EfXNOy",
        "outputId": "96e3f7d6-7851-43e6-8ee1-4548368c9927"
      },
      "execution_count": 10,
      "outputs": [
        {
          "output_type": "stream",
          "name": "stdout",
          "text": [
            "1\n",
            "{2, 3, 4, 5, 6, 7, 8, 9, 10}\n"
          ]
        }
      ]
    },
    {
      "cell_type": "code",
      "source": [
        "# To empty our set\n",
        "\n",
        "another_set.clear()\n",
        "print(another_set)"
      ],
      "metadata": {
        "colab": {
          "base_uri": "https://localhost:8080/"
        },
        "id": "n0m-vr7mXA9J",
        "outputId": "88ba8e76-7005-44ab-e5b2-6eecc0cc3622"
      },
      "execution_count": 8,
      "outputs": [
        {
          "output_type": "stream",
          "name": "stdout",
          "text": [
            "set()\n"
          ]
        }
      ]
    },
    {
      "cell_type": "code",
      "source": [
        "# Iterate over a set\n",
        "\n",
        "this_set = {1, 2, 3, 4, 5, 6, 7, 8, 9, 10}\n",
        "for i in this_set:\n",
        "  print(i, end=\" \")"
      ],
      "metadata": {
        "colab": {
          "base_uri": "https://localhost:8080/"
        },
        "id": "4Ps0Ntf0XH-n",
        "outputId": "d82733aa-8f87-4aee-ad1b-6123d102e364"
      },
      "execution_count": 12,
      "outputs": [
        {
          "output_type": "stream",
          "name": "stdout",
          "text": [
            "1 2 3 4 5 6 7 8 9 10 "
          ]
        }
      ]
    },
    {
      "cell_type": "code",
      "source": [
        "# To check if a certain element is inside the set\n",
        "\n",
        "if 5 in this_set:\n",
        "  print(\"5 is in this set\")\n",
        "else:\n",
        "  print(\"No, 5 is not in here.\")\n"
      ],
      "metadata": {
        "colab": {
          "base_uri": "https://localhost:8080/"
        },
        "id": "N72-N5mvXiN6",
        "outputId": "480fc3b6-b58f-4448-b12c-ea7bd5d956c5"
      },
      "execution_count": 14,
      "outputs": [
        {
          "output_type": "stream",
          "name": "stdout",
          "text": [
            "5 is in this set\n"
          ]
        }
      ]
    },
    {
      "cell_type": "markdown",
      "source": [
        "Union and Intersection of Sets"
      ],
      "metadata": {
        "id": "1i0RN_rOYCAu"
      }
    },
    {
      "cell_type": "code",
      "source": [
        "even_nums = {2, 4, 6, 8, 10}\n",
        "odd_nums = {1, 3, 5, 7, 9}\n",
        "prime_nums = {2, 3, 5, 7}\n",
        "\n",
        "u = even_nums.union(odd_nums)\n",
        "print(u)\n",
        "\n",
        "i = even_nums.intersection(prime_nums)\n",
        "print(i)"
      ],
      "metadata": {
        "colab": {
          "base_uri": "https://localhost:8080/"
        },
        "id": "0Hopswp9Xwg-",
        "outputId": "3716f82e-52f6-4d46-f3d0-64c633bc151b"
      },
      "execution_count": 15,
      "outputs": [
        {
          "output_type": "stream",
          "name": "stdout",
          "text": [
            "{1, 2, 3, 4, 5, 6, 7, 8, 9, 10}\n",
            "{2}\n"
          ]
        }
      ]
    },
    {
      "cell_type": "code",
      "source": [
        "set_a = {1, 2, 3, 4, 5, 6, 7, 8, 9, 10}\n",
        "set_b = {1, 2, 3, 6, 7, 8, 9, 10}\n",
        "diff = set_a.difference(set_b)\n",
        "print(diff)"
      ],
      "metadata": {
        "colab": {
          "base_uri": "https://localhost:8080/"
        },
        "id": "1hvHIT1DYXP1",
        "outputId": "0b75306a-8ed9-4b87-d93d-5de8bcc67708"
      },
      "execution_count": 22,
      "outputs": [
        {
          "output_type": "stream",
          "name": "stdout",
          "text": [
            "{4, 5}\n"
          ]
        }
      ]
    },
    {
      "cell_type": "code",
      "source": [
        "# OR\n",
        "diff = set_b.difference(set_a)\n",
        "print(diff)"
      ],
      "metadata": {
        "colab": {
          "base_uri": "https://localhost:8080/"
        },
        "id": "73yV4W70YzIH",
        "outputId": "1e9110fc-49a7-4e04-a86f-f4768e2299db"
      },
      "execution_count": 23,
      "outputs": [
        {
          "output_type": "stream",
          "name": "stdout",
          "text": [
            "set()\n"
          ]
        }
      ]
    },
    {
      "cell_type": "code",
      "source": [
        "# OR Symmetric Difference - the set containing elements that are in either set A or set B, but not in both\n",
        "\n",
        "diff = set_b.symmetric_difference(set_a)\n",
        "print(diff)\n"
      ],
      "metadata": {
        "colab": {
          "base_uri": "https://localhost:8080/"
        },
        "id": "qIf5Z0ZKZMnz",
        "outputId": "19419996-7455-490f-b2bc-50491cfe753e"
      },
      "execution_count": 24,
      "outputs": [
        {
          "output_type": "stream",
          "name": "stdout",
          "text": [
            "{4, 5}\n"
          ]
        }
      ]
    },
    {
      "cell_type": "code",
      "source": [
        "# Combining two sets\n",
        "\n",
        "set_a = {1, 2, 3, 4, 5}\n",
        "set_b = {6, 7, 8, 9, 10}\n",
        "set_a.update(set_b)\n",
        "print(set_a)"
      ],
      "metadata": {
        "colab": {
          "base_uri": "https://localhost:8080/"
        },
        "id": "eR-g66CIZgI0",
        "outputId": "1fda191d-80cb-47b0-f6f3-c8af6112f728"
      },
      "execution_count": 25,
      "outputs": [
        {
          "output_type": "stream",
          "name": "stdout",
          "text": [
            "{1, 2, 3, 4, 5, 6, 7, 8, 9, 10}\n"
          ]
        }
      ]
    },
    {
      "cell_type": "code",
      "source": [
        "# Combining the same elements\n",
        "\n",
        "set_a = {1, 2, 3, 4, 5, 6}\n",
        "set_b = {1, 2, 3, 8, 9, 10, 12}\n",
        "set_a.intersection_update(set_b)\n",
        "print(set_a)"
      ],
      "metadata": {
        "colab": {
          "base_uri": "https://localhost:8080/"
        },
        "id": "_pNx9QUiaPj6",
        "outputId": "52920b3f-e087-4bb9-b642-cb186c646e71"
      },
      "execution_count": 26,
      "outputs": [
        {
          "output_type": "stream",
          "name": "stdout",
          "text": [
            "{1, 2, 3}\n"
          ]
        }
      ]
    },
    {
      "cell_type": "code",
      "source": [
        "# Combining the different elements\n",
        "\n",
        "set_a = {1, 2, 3, 4, 5, 6}\n",
        "set_b = {1, 2, 3, 8, 9, 10, 12}\n",
        "set_a.difference_update(set_b)\n",
        "print(set_a)"
      ],
      "metadata": {
        "colab": {
          "base_uri": "https://localhost:8080/"
        },
        "id": "wkLJlZVzavMi",
        "outputId": "e01d8208-f0aa-433d-dc03-9f31dd11b89e"
      },
      "execution_count": 27,
      "outputs": [
        {
          "output_type": "stream",
          "name": "stdout",
          "text": [
            "{4, 5, 6}\n"
          ]
        }
      ]
    },
    {
      "cell_type": "code",
      "source": [
        "# Combining the symmentically different elements\n",
        "\n",
        "set_a = {1, 2, 3, 4, 5, 6}\n",
        "set_b = {1, 2, 3, 8, 9, 10, 12}\n",
        "set_a.symmetric_difference_update(set_b)\n",
        "print(set_a)"
      ],
      "metadata": {
        "colab": {
          "base_uri": "https://localhost:8080/"
        },
        "id": "yByUJ-QYbB_W",
        "outputId": "fd1b27a3-b387-46d0-879b-75f5db227c67"
      },
      "execution_count": 28,
      "outputs": [
        {
          "output_type": "stream",
          "name": "stdout",
          "text": [
            "{4, 5, 6, 8, 9, 10, 12}\n"
          ]
        }
      ]
    },
    {
      "cell_type": "code",
      "source": [
        "# Everthing we did above does not modify the existing set, it creates a new one with the modification done."
      ],
      "metadata": {
        "id": "rlDIHQMbaf6Q"
      },
      "execution_count": null,
      "outputs": []
    },
    {
      "cell_type": "code",
      "source": [
        "# Subsets\n",
        "set_a = {1, 2, 3, 4, 5}\n",
        "set_b = {1, 2, 3}\n",
        "print(set_b.issubset(set_a))"
      ],
      "metadata": {
        "colab": {
          "base_uri": "https://localhost:8080/"
        },
        "id": "xNdMTzKLbV73",
        "outputId": "88675f32-cab7-490b-feaa-eb5877607daa"
      },
      "execution_count": 29,
      "outputs": [
        {
          "output_type": "stream",
          "name": "stdout",
          "text": [
            "True\n"
          ]
        }
      ]
    },
    {
      "cell_type": "code",
      "source": [
        "set_a = {1, 2, 3, 4, 5}\n",
        "set_b = {1, 2, 3}\n",
        "print(set_a.issubset(set_b))"
      ],
      "metadata": {
        "colab": {
          "base_uri": "https://localhost:8080/"
        },
        "id": "UOozjpbdbi8x",
        "outputId": "bb4be082-bc63-401f-839c-de7bdcdc99c0"
      },
      "execution_count": 30,
      "outputs": [
        {
          "output_type": "stream",
          "name": "stdout",
          "text": [
            "False\n"
          ]
        }
      ]
    },
    {
      "cell_type": "code",
      "source": [
        "# And vice versa\n",
        "print(set_a.issuperset(set_b))\n",
        "print(set_b.issuperset(set_a))"
      ],
      "metadata": {
        "colab": {
          "base_uri": "https://localhost:8080/"
        },
        "id": "uZplJnp6bm5G",
        "outputId": "cee24755-fc52-4ca4-a048-d44d9cf565f3"
      },
      "execution_count": 31,
      "outputs": [
        {
          "output_type": "stream",
          "name": "stdout",
          "text": [
            "True\n",
            "False\n"
          ]
        }
      ]
    },
    {
      "cell_type": "code",
      "source": [
        "print(set_a.isdisjoint(set_b))  #Disjoint would mean that set a and b share no elements\n",
        "print(set_b.isdisjoint(set_a))\n",
        "\n",
        "set_c = {15, 16, 17, 18, 20}\n",
        "print(set_a.isdisjoint(set_c))"
      ],
      "metadata": {
        "colab": {
          "base_uri": "https://localhost:8080/"
        },
        "id": "cHnKTBnzcW0f",
        "outputId": "fdb9f4b2-36c0-4ac2-ebcc-995023ef63ed"
      },
      "execution_count": 33,
      "outputs": [
        {
          "output_type": "stream",
          "name": "stdout",
          "text": [
            "False\n",
            "False\n",
            "True\n"
          ]
        }
      ]
    },
    {
      "cell_type": "markdown",
      "source": [
        "Copying:"
      ],
      "metadata": {
        "id": "c5qzfUrLdIAr"
      }
    },
    {
      "cell_type": "code",
      "source": [
        "# Shallow copy of a set\n",
        "\n",
        "set_a = {1, 2, 3, 4, 5}\n",
        "set_b = set_a\n",
        "print(set_b)\n",
        "\n",
        "# Modify the copy\n",
        "\n",
        "set_a.add(10)\n",
        "print(set_a)"
      ],
      "metadata": {
        "colab": {
          "base_uri": "https://localhost:8080/"
        },
        "id": "LFaIRwgHctdX",
        "outputId": "78870d1f-ec51-424b-a72a-4c114c4b071c"
      },
      "execution_count": 36,
      "outputs": [
        {
          "output_type": "stream",
          "name": "stdout",
          "text": [
            "{1, 2, 3, 4, 5}\n",
            "{1, 2, 3, 4, 5, 10}\n"
          ]
        }
      ]
    },
    {
      "cell_type": "code",
      "source": [
        "# Wit .copy() method, the original set will not change if any modification is done to the copy.\n",
        "\n",
        "set_a = {\"a\", \"b\", \"c\", \"d\", \"e\"}\n",
        "set_b = set_a.copy()\n",
        "set_b.add(\"f\")\n",
        "print(set_b)\n",
        "print(set_a)"
      ],
      "metadata": {
        "colab": {
          "base_uri": "https://localhost:8080/"
        },
        "id": "FADYSGLTeUQP",
        "outputId": "a22d1629-81d0-4380-8d88-c00249d1b5cf"
      },
      "execution_count": 39,
      "outputs": [
        {
          "output_type": "stream",
          "name": "stdout",
          "text": [
            "{'a', 'c', 'b', 'd', 'f', 'e'}\n",
            "{'a', 'c', 'b', 'd', 'e'}\n"
          ]
        }
      ]
    },
    {
      "cell_type": "code",
      "source": [
        "set_a = {\"a\", \"b\", \"c\", \"d\", \"e\"}\n",
        "set_b = set(set_a)\n",
        "set_b.add(\"f\")\n",
        "print(set_b)\n",
        "print(set_a)"
      ],
      "metadata": {
        "colab": {
          "base_uri": "https://localhost:8080/"
        },
        "id": "XLHCseFHgJx8",
        "outputId": "f4fbed18-ad1e-4bfc-dce7-cc1dcbcfc77c"
      },
      "execution_count": 40,
      "outputs": [
        {
          "output_type": "stream",
          "name": "stdout",
          "text": [
            "{'a', 'c', 'b', 'd', 'f', 'e'}\n",
            "{'a', 'c', 'b', 'd', 'e'}\n"
          ]
        }
      ]
    },
    {
      "cell_type": "code",
      "source": [
        "# Frozenset ---> unordered and immutable\n",
        "\n",
        "set_a = frozenset([1, 2, 3, 4, 5])\n",
        "print(set_a)\n",
        "set_a.add(3)\n",
        "print(set_a)"
      ],
      "metadata": {
        "colab": {
          "base_uri": "https://localhost:8080/",
          "height": 211
        },
        "id": "TyYjpwfPgqt3",
        "outputId": "4bf39d6e-e877-4029-b8d6-adc0503bbfeb"
      },
      "execution_count": 42,
      "outputs": [
        {
          "output_type": "stream",
          "name": "stdout",
          "text": [
            "frozenset({1, 2, 3, 4, 5})\n"
          ]
        },
        {
          "output_type": "error",
          "ename": "AttributeError",
          "evalue": "'frozenset' object has no attribute 'add'",
          "traceback": [
            "\u001b[0;31m---------------------------------------------------------------------------\u001b[0m",
            "\u001b[0;31mAttributeError\u001b[0m                            Traceback (most recent call last)",
            "\u001b[0;32m<ipython-input-42-258c34c8d414>\u001b[0m in \u001b[0;36m<cell line: 0>\u001b[0;34m()\u001b[0m\n\u001b[1;32m      3\u001b[0m \u001b[0mset_a\u001b[0m \u001b[0;34m=\u001b[0m \u001b[0mfrozenset\u001b[0m\u001b[0;34m(\u001b[0m\u001b[0;34m[\u001b[0m\u001b[0;36m1\u001b[0m\u001b[0;34m,\u001b[0m \u001b[0;36m2\u001b[0m\u001b[0;34m,\u001b[0m \u001b[0;36m3\u001b[0m\u001b[0;34m,\u001b[0m \u001b[0;36m4\u001b[0m\u001b[0;34m,\u001b[0m \u001b[0;36m5\u001b[0m\u001b[0;34m]\u001b[0m\u001b[0;34m)\u001b[0m\u001b[0;34m\u001b[0m\u001b[0;34m\u001b[0m\u001b[0m\n\u001b[1;32m      4\u001b[0m \u001b[0mprint\u001b[0m\u001b[0;34m(\u001b[0m\u001b[0mset_a\u001b[0m\u001b[0;34m)\u001b[0m\u001b[0;34m\u001b[0m\u001b[0;34m\u001b[0m\u001b[0m\n\u001b[0;32m----> 5\u001b[0;31m \u001b[0mset_a\u001b[0m\u001b[0;34m.\u001b[0m\u001b[0madd\u001b[0m\u001b[0;34m(\u001b[0m\u001b[0;36m3\u001b[0m\u001b[0;34m)\u001b[0m\u001b[0;34m\u001b[0m\u001b[0;34m\u001b[0m\u001b[0m\n\u001b[0m\u001b[1;32m      6\u001b[0m \u001b[0mprint\u001b[0m\u001b[0;34m(\u001b[0m\u001b[0mset_a\u001b[0m\u001b[0;34m)\u001b[0m\u001b[0;34m\u001b[0m\u001b[0;34m\u001b[0m\u001b[0m\n",
            "\u001b[0;31mAttributeError\u001b[0m: 'frozenset' object has no attribute 'add'"
          ]
        }
      ]
    },
    {
      "cell_type": "code",
      "source": [],
      "metadata": {
        "id": "l074f6vyhaTY"
      },
      "execution_count": null,
      "outputs": []
    }
  ]
}